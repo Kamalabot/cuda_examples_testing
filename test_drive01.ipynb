{
 "cells": [
  {
   "cell_type": "markdown",
   "id": "a79af5b8-c667-4dd9-83ee-cf6bf1b4b0cc",
   "metadata": {},
   "source": [
    "## Overview of Rapids library like cuML, cuDF, Dask "
   ]
  },
  {
   "cell_type": "code",
   "execution_count": 1,
   "id": "703ad28f-8726-4be2-974e-a475549fc69e",
   "metadata": {},
   "outputs": [
    {
     "name": "stdout",
     "output_type": "stream",
     "text": [
      "nvcc: NVIDIA (R) Cuda compiler driver\n",
      "Copyright (c) 2005-2022 NVIDIA Corporation\n",
      "Built on Mon_Oct_24_19:12:58_PDT_2022\n",
      "Cuda compilation tools, release 12.0, V12.0.76\n",
      "Build cuda_12.0.r12.0/compiler.31968024_0\n"
     ]
    }
   ],
   "source": [
    "!nvcc --version"
   ]
  },
  {
   "cell_type": "code",
   "execution_count": 49,
   "id": "81909026-e2d4-4220-9254-ceb022813220",
   "metadata": {},
   "outputs": [],
   "source": [
    "import warnings\n",
    "warnings.filterwarnings(\"ignore\")"
   ]
  },
  {
   "cell_type": "code",
   "execution_count": 2,
   "id": "abb348f0-bcf4-4f9a-bdaa-47120b84ec13",
   "metadata": {},
   "outputs": [],
   "source": [
    "import pynvml\n",
    "pynvml.nvmlInit()"
   ]
  },
  {
   "cell_type": "code",
   "execution_count": 4,
   "id": "1eabeb80-dc57-4104-b059-cd3bd9b93e82",
   "metadata": {},
   "outputs": [
    {
     "data": {
      "text/plain": [
       "11.994140625"
      ]
     },
     "execution_count": 4,
     "metadata": {},
     "output_type": "execute_result"
    }
   ],
   "source": [
    "pynvml.nvmlDeviceGetMemoryInfo(pynvml.nvmlDeviceGetHandleByIndex(0)).total / 1024 ** 3"
   ]
  },
  {
   "cell_type": "code",
   "execution_count": 16,
   "id": "cf8b7e7a-c9bc-45c1-a48e-b9ccfcf5c97f",
   "metadata": {},
   "outputs": [],
   "source": [
    "gpu_mem = round(pynvml.nvmlDeviceGetMemoryInfo(pynvml.nvmlDeviceGetHandleByIndex(0)).total / 1024 ** 3)"
   ]
  },
  {
   "cell_type": "code",
   "execution_count": 5,
   "id": "126e6a12-5a2b-4e5c-b316-d45635540291",
   "metadata": {},
   "outputs": [],
   "source": [
    "import pandas as pd\n",
    "\n",
    "df = pd.DataFrame()\n",
    "\n",
    "df['key'] = [7,5,2,6,8]\n",
    "df['val'] = [float(x + 10) for x in df['key']]"
   ]
  },
  {
   "cell_type": "code",
   "execution_count": 6,
   "id": "55a38045-ac00-4bdb-8d3e-92585dd12258",
   "metadata": {},
   "outputs": [
    {
     "data": {
      "text/html": [
       "<div>\n",
       "<style scoped>\n",
       "    .dataframe tbody tr th:only-of-type {\n",
       "        vertical-align: middle;\n",
       "    }\n",
       "\n",
       "    .dataframe tbody tr th {\n",
       "        vertical-align: top;\n",
       "    }\n",
       "\n",
       "    .dataframe thead th {\n",
       "        text-align: right;\n",
       "    }\n",
       "</style>\n",
       "<table border=\"1\" class=\"dataframe\">\n",
       "  <thead>\n",
       "    <tr style=\"text-align: right;\">\n",
       "      <th></th>\n",
       "      <th>key</th>\n",
       "      <th>val</th>\n",
       "    </tr>\n",
       "  </thead>\n",
       "  <tbody>\n",
       "    <tr>\n",
       "      <th>0</th>\n",
       "      <td>7</td>\n",
       "      <td>17.0</td>\n",
       "    </tr>\n",
       "    <tr>\n",
       "      <th>1</th>\n",
       "      <td>5</td>\n",
       "      <td>15.0</td>\n",
       "    </tr>\n",
       "    <tr>\n",
       "      <th>2</th>\n",
       "      <td>2</td>\n",
       "      <td>12.0</td>\n",
       "    </tr>\n",
       "    <tr>\n",
       "      <th>3</th>\n",
       "      <td>6</td>\n",
       "      <td>16.0</td>\n",
       "    </tr>\n",
       "    <tr>\n",
       "      <th>4</th>\n",
       "      <td>8</td>\n",
       "      <td>18.0</td>\n",
       "    </tr>\n",
       "  </tbody>\n",
       "</table>\n",
       "</div>"
      ],
      "text/plain": [
       "   key   val\n",
       "0    7  17.0\n",
       "1    5  15.0\n",
       "2    2  12.0\n",
       "3    6  16.0\n",
       "4    8  18.0"
      ]
     },
     "execution_count": 6,
     "metadata": {},
     "output_type": "execute_result"
    }
   ],
   "source": [
    "df"
   ]
  },
  {
   "cell_type": "code",
   "execution_count": 7,
   "id": "bf9a0241-3d58-4e05-a7e7-549f3e2c6eba",
   "metadata": {},
   "outputs": [
    {
     "data": {
      "text/plain": [
       "78.0"
      ]
     },
     "execution_count": 7,
     "metadata": {},
     "output_type": "execute_result"
    }
   ],
   "source": [
    "#aggregate\n",
    "df_sum = df.val.sum()\n",
    "df_sum"
   ]
  },
  {
   "cell_type": "code",
   "execution_count": 12,
   "id": "ea89fdb6-8e38-45ea-88c0-1903ec015556",
   "metadata": {},
   "outputs": [
    {
     "data": {
      "text/html": [
       "<div>\n",
       "<style scoped>\n",
       "    .dataframe tbody tr th:only-of-type {\n",
       "        vertical-align: middle;\n",
       "    }\n",
       "\n",
       "    .dataframe tbody tr th {\n",
       "        vertical-align: top;\n",
       "    }\n",
       "\n",
       "    .dataframe thead th {\n",
       "        text-align: right;\n",
       "    }\n",
       "</style>\n",
       "<table border=\"1\" class=\"dataframe\">\n",
       "  <thead>\n",
       "    <tr style=\"text-align: right;\">\n",
       "      <th></th>\n",
       "      <th>ind</th>\n",
       "      <th>ex</th>\n",
       "    </tr>\n",
       "  </thead>\n",
       "  <tbody>\n",
       "    <tr>\n",
       "      <th>0</th>\n",
       "      <td>6</td>\n",
       "      <td>39.0</td>\n",
       "    </tr>\n",
       "    <tr>\n",
       "      <th>1</th>\n",
       "      <td>2</td>\n",
       "      <td>13.0</td>\n",
       "    </tr>\n",
       "    <tr>\n",
       "      <th>2</th>\n",
       "      <td>3</td>\n",
       "      <td>19.5</td>\n",
       "    </tr>\n",
       "    <tr>\n",
       "      <th>3</th>\n",
       "      <td>1</td>\n",
       "      <td>6.5</td>\n",
       "    </tr>\n",
       "    <tr>\n",
       "      <th>4</th>\n",
       "      <td>5</td>\n",
       "      <td>32.5</td>\n",
       "    </tr>\n",
       "    <tr>\n",
       "      <th>5</th>\n",
       "      <td>8</td>\n",
       "      <td>52.0</td>\n",
       "    </tr>\n",
       "  </tbody>\n",
       "</table>\n",
       "</div>"
      ],
      "text/plain": [
       "   ind    ex\n",
       "0    6  39.0\n",
       "1    2  13.0\n",
       "2    3  19.5\n",
       "3    1   6.5\n",
       "4    5  32.5\n",
       "5    8  52.0"
      ]
     },
     "execution_count": 12,
     "metadata": {},
     "output_type": "execute_result"
    }
   ],
   "source": [
    "import cudf as cd\n",
    "\n",
    "cdf = cd.DataFrame()\n",
    "cdf['ind'] = [6,2,3,1,5,8]\n",
    "cdf['ex'] = [float(x * 6.5) for x in cdf['ind'].values_host] #will throw error if used directly\n",
    "cdf"
   ]
  },
  {
   "cell_type": "code",
   "execution_count": 13,
   "id": "82eeb3ed-43d2-4cac-b057-f27f2d1442b6",
   "metadata": {},
   "outputs": [
    {
     "data": {
      "text/plain": [
       "162.5"
      ]
     },
     "execution_count": 13,
     "metadata": {},
     "output_type": "execute_result"
    }
   ],
   "source": [
    "cdf.ex.sum()"
   ]
  },
  {
   "cell_type": "code",
   "execution_count": 15,
   "id": "f9d49b3b-5c74-42b6-9b1f-73aa4f991a90",
   "metadata": {},
   "outputs": [],
   "source": [
    "from matplotlib.colors import ListedColormap\n",
    "import matplotlib.pyplot as plt\n",
    "\n",
    "%matplotlib inline"
   ]
  },
  {
   "cell_type": "code",
   "execution_count": 17,
   "id": "2646bd61-f2ef-40a8-b1b9-e468a6e9285b",
   "metadata": {},
   "outputs": [
    {
     "name": "stdout",
     "output_type": "stream",
     "text": [
      "NumPy Version: 1.24.4\n"
     ]
    }
   ],
   "source": [
    "import numpy as np; print('NumPy Version:', np.__version__)\n",
    "\n",
    "\n",
    "# create the relationship: y = 2.0 * x + 1.0\n",
    "if(gpu_mem <= 16):\n",
    "    n_rows = 20000 # let's use 35 thousand data points.  Very small GPU memory sizes will require you to reduce this number further \n",
    "elif(gpu_mem > 17):\n",
    "    n_rows = 100000 # let's use 100 thousand data points\n",
    "\n",
    "w = 2.0\n",
    "\n",
    "x = np.random.normal(loc=0, scale=1, size=(n_rows,))\n",
    "\n",
    "b = 1.0\n",
    "\n",
    "y = w * x + b\n",
    "\n",
    "# add a bit of noise\n",
    "noise = np.random.normal(loc=0, scale=2, size=(n_rows,))\n",
    "y_noisy = y + noise"
   ]
  },
  {
   "cell_type": "code",
   "execution_count": 18,
   "id": "ec42036d-cd49-48e6-8ba9-c60ca1c82beb",
   "metadata": {},
   "outputs": [
    {
     "data": {
      "text/plain": [
       "<matplotlib.legend.Legend at 0x7ff3cf553130>"
      ]
     },
     "execution_count": 18,
     "metadata": {},
     "output_type": "execute_result"
    },
    {
     "data": {
      "image/png": "[encoded data removed]",
      "text/plain": [
       "<Figure size 640x480 with 1 Axes>"
      ]
     },
     "metadata": {},
     "output_type": "display_data"
    }
   ],
   "source": [
    "plt.scatter(x, y_noisy, label='empirical data points')\n",
    "plt.plot(x, y, color='black', label='true relationship')\n",
    "plt.legend()"
   ]
  },
  {
   "cell_type": "code",
   "execution_count": 20,
   "id": "7f55d07f-5448-4a7d-bb7c-849f6f3f3e58",
   "metadata": {},
   "outputs": [
    {
     "name": "stdout",
     "output_type": "stream",
     "text": [
      "Scikit-Learn Version: 1.3.0\n"
     ]
    }
   ],
   "source": [
    "import sklearn; print('Scikit-Learn Version:', sklearn.__version__)\n",
    "from sklearn.linear_model import LinearRegression\n",
    "\n",
    "\n",
    "# instantiate and fit model\n",
    "linear_regression = LinearRegression()"
   ]
  },
  {
   "cell_type": "code",
   "execution_count": 21,
   "id": "ce5b4125-f271-4b1a-80ac-4ff2b7e04719",
   "metadata": {},
   "outputs": [
    {
     "name": "stdout",
     "output_type": "stream",
     "text": [
      "CPU times: user 7.88 ms, sys: 0 ns, total: 7.88 ms\n",
      "Wall time: 6.57 ms\n"
     ]
    },
    {
     "data": {
      "text/html": [
       "<style>#sk-container-id-1 {color: black;}#sk-container-id-1 pre{padding: 0;}#sk-container-id-1 div.sk-toggleable {background-color: white;}#sk-container-id-1 label.sk-toggleable__label {cursor: pointer;display: block;width: 100%;margin-bottom: 0;padding: 0.3em;box-sizing: border-box;text-align: center;}#sk-container-id-1 label.sk-toggleable__label-arrow:before {content: \"▸\";float: left;margin-right: 0.25em;color: #696969;}#sk-container-id-1 label.sk-toggleable__label-arrow:hover:before {color: black;}#sk-container-id-1 div.sk-estimator:hover label.sk-toggleable__label-arrow:before {color: black;}#sk-container-id-1 div.sk-toggleable__content {max-height: 0;max-width: 0;overflow: hidden;text-align: left;background-color: #f0f8ff;}#sk-container-id-1 div.sk-toggleable__content pre {margin: 0.2em;color: black;border-radius: 0.25em;background-color: #f0f8ff;}#sk-container-id-1 input.sk-toggleable__control:checked~div.sk-toggleable__content {max-height: 200px;max-width: 100%;overflow: auto;}#sk-container-id-1 input.sk-toggleable__control:checked~label.sk-toggleable__label-arrow:before {content: \"▾\";}#sk-container-id-1 div.sk-estimator input.sk-toggleable__control:checked~label.sk-toggleable__label {background-color: #d4ebff;}#sk-container-id-1 div.sk-label input.sk-toggleable__control:checked~label.sk-toggleable__label {background-color: #d4ebff;}#sk-container-id-1 input.sk-hidden--visually {border: 0;clip: rect(1px 1px 1px 1px);clip: rect(1px, 1px, 1px, 1px);height: 1px;margin: -1px;overflow: hidden;padding: 0;position: absolute;width: 1px;}#sk-container-id-1 div.sk-estimator {font-family: monospace;background-color: #f0f8ff;border: 1px dotted black;border-radius: 0.25em;box-sizing: border-box;margin-bottom: 0.5em;}#sk-container-id-1 div.sk-estimator:hover {background-color: #d4ebff;}#sk-container-id-1 div.sk-parallel-item::after {content: \"\";width: 100%;border-bottom: 1px solid gray;flex-grow: 1;}#sk-container-id-1 div.sk-label:hover label.sk-toggleable__label {background-color: #d4ebff;}#sk-container-id-1 div.sk-serial::before {content: \"\";position: absolute;border-left: 1px solid gray;box-sizing: border-box;top: 0;bottom: 0;left: 50%;z-index: 0;}#sk-container-id-1 div.sk-serial {display: flex;flex-direction: column;align-items: center;background-color: white;padding-right: 0.2em;padding-left: 0.2em;position: relative;}#sk-container-id-1 div.sk-item {position: relative;z-index: 1;}#sk-container-id-1 div.sk-parallel {display: flex;align-items: stretch;justify-content: center;background-color: white;position: relative;}#sk-container-id-1 div.sk-item::before, #sk-container-id-1 div.sk-parallel-item::before {content: \"\";position: absolute;border-left: 1px solid gray;box-sizing: border-box;top: 0;bottom: 0;left: 50%;z-index: -1;}#sk-container-id-1 div.sk-parallel-item {display: flex;flex-direction: column;z-index: 1;position: relative;background-color: white;}#sk-container-id-1 div.sk-parallel-item:first-child::after {align-self: flex-end;width: 50%;}#sk-container-id-1 div.sk-parallel-item:last-child::after {align-self: flex-start;width: 50%;}#sk-container-id-1 div.sk-parallel-item:only-child::after {width: 0;}#sk-container-id-1 div.sk-dashed-wrapped {border: 1px dashed gray;margin: 0 0.4em 0.5em 0.4em;box-sizing: border-box;padding-bottom: 0.4em;background-color: white;}#sk-container-id-1 div.sk-label label {font-family: monospace;font-weight: bold;display: inline-block;line-height: 1.2em;}#sk-container-id-1 div.sk-label-container {text-align: center;}#sk-container-id-1 div.sk-container {/* jupyter's `normalize.less` sets `[hidden] { display: none; }` but bootstrap.min.css set `[hidden] { display: none !important; }` so we also need the `!important` here to be able to override the default hidden behavior on the sphinx rendered scikit-learn.org. See: https://github.com/scikit-learn/scikit-learn/issues/21755 */display: inline-block !important;position: relative;}#sk-container-id-1 div.sk-text-repr-fallback {display: none;}</style><div id=\"sk-container-id-1\" class=\"sk-top-container\"><div class=\"sk-text-repr-fallback\"><pre>LinearRegression()</pre><b>In a Jupyter environment, please rerun this cell to show the HTML representation or trust the notebook. <br />On GitHub, the HTML representation is unable to render, please try loading this page with nbviewer.org.</b></div><div class=\"sk-container\" hidden><div class=\"sk-item\"><div class=\"sk-estimator sk-toggleable\"><input class=\"sk-toggleable__control sk-hidden--visually\" id=\"sk-estimator-id-1\" type=\"checkbox\" checked><label for=\"sk-estimator-id-1\" class=\"sk-toggleable__label sk-toggleable__label-arrow\">LinearRegression</label><div class=\"sk-toggleable__content\"><pre>LinearRegression()</pre></div></div></div></div></div>"
      ],
      "text/plain": [
       "LinearRegression()"
      ]
     },
     "execution_count": 21,
     "metadata": {},
     "output_type": "execute_result"
    }
   ],
   "source": [
    "%%time\n",
    "\n",
    "linear_regression.fit(np.expand_dims(x, 1), y)"
   ]
  },
  {
   "cell_type": "code",
   "execution_count": 23,
   "id": "dec4ccfb-90eb-439a-a5ec-e94993953928",
   "metadata": {},
   "outputs": [
    {
     "name": "stdout",
     "output_type": "stream",
     "text": [
      "          x         y\n",
      "0  0.717535  3.639953\n",
      "1  0.794146  7.093883\n",
      "2  0.098002  2.644101\n",
      "3  1.179962  3.117574\n",
      "4  0.296484  1.631518\n"
     ]
    }
   ],
   "source": [
    "# create a cuDF DataFrame\n",
    "df = cd.DataFrame({'x': x, 'y': y_noisy})\n",
    "print(df.head())"
   ]
  },
  {
   "cell_type": "code",
   "execution_count": 24,
   "id": "a36694a3-2f69-4742-8395-78e1e89c6a56",
   "metadata": {},
   "outputs": [
    {
     "name": "stderr",
     "output_type": "stream",
     "text": [
      "/home/kamal/gitfolders/one-click-installers/installer_files/conda/envs/rapids-23.08/lib/python3.10/site-packages/cuml/internals/api_decorators.py:382: UserWarning: Starting from version 23.08, the new 'copy_X' parameter defaults to 'True', ensuring a copy of X is created after passing it to fit(), preventing any changes to the input, but with increased memory usage. This represents a change in behavior from previous versions. With `copy_X=False` a copy might still be created if necessary. Explicitly set 'copy_X' to either True or False to suppress this warning.\n",
      "  return init_func(self, *args, **filtered_kwargs)\n"
     ]
    }
   ],
   "source": [
    "from cuml.linear_model import LinearRegression as LinearRegression_GPU\n",
    "\n",
    "\n",
    "# instantiate and fit model\n",
    "linear_regression_gpu = LinearRegression_GPU()"
   ]
  },
  {
   "cell_type": "code",
   "execution_count": 30,
   "id": "5bc3074b-a370-46e3-b2b6-37b13410969e",
   "metadata": {},
   "outputs": [
    {
     "name": "stdout",
     "output_type": "stream",
     "text": [
      "CPU times: user 3.53 ms, sys: 819 µs, total: 4.35 ms\n",
      "Wall time: 4.43 ms\n"
     ]
    },
    {
     "data": {
      "text/plain": [
       "LinearRegression()"
      ]
     },
     "execution_count": 30,
     "metadata": {},
     "output_type": "execute_result"
    }
   ],
   "source": [
    "%%time\n",
    "\n",
    "linear_regression_gpu.fit(df[['x']], df['y'])"
   ]
  },
  {
   "cell_type": "code",
   "execution_count": 31,
   "id": "50e44689-3c72-472a-afd8-974833de32d2",
   "metadata": {},
   "outputs": [
    {
     "name": "stdout",
     "output_type": "stream",
     "text": [
      "Dask Version: 2023.7.1\n"
     ]
    }
   ],
   "source": [
    "import dask; print('Dask Version:', dask.__version__)\n",
    "from dask.distributed import Client, LocalCluster\n",
    "\n",
    "\n",
    "# create a local cluster with 4 workers\n",
    "n_workers = 4\n",
    "cluster = LocalCluster(n_workers=n_workers)\n",
    "client = Client(cluster)"
   ]
  },
  {
   "cell_type": "code",
   "execution_count": 32,
   "id": "0cf9867a-e67c-46cb-b205-ffe556f043f2",
   "metadata": {},
   "outputs": [
    {
     "data": {
      "text/html": [
       "<div>\n",
       "    <div style=\"width: 24px; height: 24px; background-color: #e1e1e1; border: 3px solid #9D9D9D; border-radius: 5px; position: absolute;\"> </div>\n",
       "    <div style=\"margin-left: 48px;\">\n",
       "        <h3 style=\"margin-bottom: 0px;\">Client</h3>\n",
       "        <p style=\"color: #9D9D9D; margin-bottom: 0px;\">Client-78cee0c4-4f8c-11ee-a682-f4c88ae06f82</p>\n",
       "        <table style=\"width: 100%; text-align: left;\">\n",
       "\n",
       "        <tr>\n",
       "        \n",
       "            <td style=\"text-align: left;\"><strong>Connection method:</strong> Cluster object</td>\n",
       "            <td style=\"text-align: left;\"><strong>Cluster type:</strong> distributed.LocalCluster</td>\n",
       "        \n",
       "        </tr>\n",
       "\n",
       "        \n",
       "            <tr>\n",
       "                <td style=\"text-align: left;\">\n",
       "                    <strong>Dashboard: </strong> <a href=\"http://127.0.0.1:8787/status\" target=\"_blank\">http://127.0.0.1:8787/status</a>\n",
       "                </td>\n",
       "                <td style=\"text-align: left;\"></td>\n",
       "            </tr>\n",
       "        \n",
       "\n",
       "        </table>\n",
       "\n",
       "        \n",
       "\n",
       "        \n",
       "            <details>\n",
       "            <summary style=\"margin-bottom: 20px;\"><h3 style=\"display: inline;\">Cluster Info</h3></summary>\n",
       "            <div class=\"jp-RenderedHTMLCommon jp-RenderedHTML jp-mod-trusted jp-OutputArea-output\">\n",
       "    <div style=\"width: 24px; height: 24px; background-color: #e1e1e1; border: 3px solid #9D9D9D; border-radius: 5px; position: absolute;\">\n",
       "    </div>\n",
       "    <div style=\"margin-left: 48px;\">\n",
       "        <h3 style=\"margin-bottom: 0px; margin-top: 0px;\">LocalCluster</h3>\n",
       "        <p style=\"color: #9D9D9D; margin-bottom: 0px;\">b0b4a819</p>\n",
       "        <table style=\"width: 100%; text-align: left;\">\n",
       "            <tr>\n",
       "                <td style=\"text-align: left;\">\n",
       "                    <strong>Dashboard:</strong> <a href=\"http://127.0.0.1:8787/status\" target=\"_blank\">http://127.0.0.1:8787/status</a>\n",
       "                </td>\n",
       "                <td style=\"text-align: left;\">\n",
       "                    <strong>Workers:</strong> 4\n",
       "                </td>\n",
       "            </tr>\n",
       "            <tr>\n",
       "                <td style=\"text-align: left;\">\n",
       "                    <strong>Total threads:</strong> 20\n",
       "                </td>\n",
       "                <td style=\"text-align: left;\">\n",
       "                    <strong>Total memory:</strong> 31.20 GiB\n",
       "                </td>\n",
       "            </tr>\n",
       "            \n",
       "            <tr>\n",
       "    <td style=\"text-align: left;\"><strong>Status:</strong> running</td>\n",
       "    <td style=\"text-align: left;\"><strong>Using processes:</strong> True</td>\n",
       "</tr>\n",
       "\n",
       "            \n",
       "        </table>\n",
       "\n",
       "        <details>\n",
       "            <summary style=\"margin-bottom: 20px;\">\n",
       "                <h3 style=\"display: inline;\">Scheduler Info</h3>\n",
       "            </summary>\n",
       "\n",
       "            <div style=\"\">\n",
       "    <div>\n",
       "        <div style=\"width: 24px; height: 24px; background-color: #FFF7E5; border: 3px solid #FF6132; border-radius: 5px; position: absolute;\"> </div>\n",
       "        <div style=\"margin-left: 48px;\">\n",
       "            <h3 style=\"margin-bottom: 0px;\">Scheduler</h3>\n",
       "            <p style=\"color: #9D9D9D; margin-bottom: 0px;\">Scheduler-070cec59-9dc9-4ad4-9fba-8750f21cf749</p>\n",
       "            <table style=\"width: 100%; text-align: left;\">\n",
       "                <tr>\n",
       "                    <td style=\"text-align: left;\">\n",
       "                        <strong>Comm:</strong> tcp://127.0.0.1:43855\n",
       "                    </td>\n",
       "                    <td style=\"text-align: left;\">\n",
       "                        <strong>Workers:</strong> 4\n",
       "                    </td>\n",
       "                </tr>\n",
       "                <tr>\n",
       "                    <td style=\"text-align: left;\">\n",
       "                        <strong>Dashboard:</strong> <a href=\"http://127.0.0.1:8787/status\" target=\"_blank\">http://127.0.0.1:8787/status</a>\n",
       "                    </td>\n",
       "                    <td style=\"text-align: left;\">\n",
       "                        <strong>Total threads:</strong> 20\n",
       "                    </td>\n",
       "                </tr>\n",
       "                <tr>\n",
       "                    <td style=\"text-align: left;\">\n",
       "                        <strong>Started:</strong> Just now\n",
       "                    </td>\n",
       "                    <td style=\"text-align: left;\">\n",
       "                        <strong>Total memory:</strong> 31.20 GiB\n",
       "                    </td>\n",
       "                </tr>\n",
       "            </table>\n",
       "        </div>\n",
       "    </div>\n",
       "\n",
       "    <details style=\"margin-left: 48px;\">\n",
       "        <summary style=\"margin-bottom: 20px;\">\n",
       "            <h3 style=\"display: inline;\">Workers</h3>\n",
       "        </summary>\n",
       "\n",
       "        \n",
       "        <div style=\"margin-bottom: 20px;\">\n",
       "            <div style=\"width: 24px; height: 24px; background-color: #DBF5FF; border: 3px solid #4CC9FF; border-radius: 5px; position: absolute;\"> </div>\n",
       "            <div style=\"margin-left: 48px;\">\n",
       "            <details>\n",
       "                <summary>\n",
       "                    <h4 style=\"margin-bottom: 0px; display: inline;\">Worker: 0</h4>\n",
       "                </summary>\n",
       "                <table style=\"width: 100%; text-align: left;\">\n",
       "                    <tr>\n",
       "                        <td style=\"text-align: left;\">\n",
       "                            <strong>Comm: </strong> tcp://127.0.0.1:35167\n",
       "                        </td>\n",
       "                        <td style=\"text-align: left;\">\n",
       "                            <strong>Total threads: </strong> 5\n",
       "                        </td>\n",
       "                    </tr>\n",
       "                    <tr>\n",
       "                        <td style=\"text-align: left;\">\n",
       "                            <strong>Dashboard: </strong> <a href=\"http://127.0.0.1:45023/status\" target=\"_blank\">http://127.0.0.1:45023/status</a>\n",
       "                        </td>\n",
       "                        <td style=\"text-align: left;\">\n",
       "                            <strong>Memory: </strong> 7.80 GiB\n",
       "                        </td>\n",
       "                    </tr>\n",
       "                    <tr>\n",
       "                        <td style=\"text-align: left;\">\n",
       "                            <strong>Nanny: </strong> tcp://127.0.0.1:40031\n",
       "                        </td>\n",
       "                        <td style=\"text-align: left;\"></td>\n",
       "                    </tr>\n",
       "                    <tr>\n",
       "                        <td colspan=\"2\" style=\"text-align: left;\">\n",
       "                            <strong>Local directory: </strong> /tmp/dask-scratch-space/worker-j_mkqoyc\n",
       "                        </td>\n",
       "                    </tr>\n",
       "\n",
       "                    \n",
       "                    <tr>\n",
       "                        <td style=\"text-align: left;\">\n",
       "                            <strong>GPU: </strong>NVIDIA GeForce RTX 4070\n",
       "                        </td>\n",
       "                        <td style=\"text-align: left;\">\n",
       "                            <strong>GPU memory: </strong> 11.99 GiB\n",
       "                        </td>\n",
       "                    </tr>\n",
       "                    \n",
       "\n",
       "                    \n",
       "\n",
       "                </table>\n",
       "            </details>\n",
       "            </div>\n",
       "        </div>\n",
       "        \n",
       "        <div style=\"margin-bottom: 20px;\">\n",
       "            <div style=\"width: 24px; height: 24px; background-color: #DBF5FF; border: 3px solid #4CC9FF; border-radius: 5px; position: absolute;\"> </div>\n",
       "            <div style=\"margin-left: 48px;\">\n",
       "            <details>\n",
       "                <summary>\n",
       "                    <h4 style=\"margin-bottom: 0px; display: inline;\">Worker: 1</h4>\n",
       "                </summary>\n",
       "                <table style=\"width: 100%; text-align: left;\">\n",
       "                    <tr>\n",
       "                        <td style=\"text-align: left;\">\n",
       "                            <strong>Comm: </strong> tcp://127.0.0.1:43423\n",
       "                        </td>\n",
       "                        <td style=\"text-align: left;\">\n",
       "                            <strong>Total threads: </strong> 5\n",
       "                        </td>\n",
       "                    </tr>\n",
       "                    <tr>\n",
       "                        <td style=\"text-align: left;\">\n",
       "                            <strong>Dashboard: </strong> <a href=\"http://127.0.0.1:33697/status\" target=\"_blank\">http://127.0.0.1:33697/status</a>\n",
       "                        </td>\n",
       "                        <td style=\"text-align: left;\">\n",
       "                            <strong>Memory: </strong> 7.80 GiB\n",
       "                        </td>\n",
       "                    </tr>\n",
       "                    <tr>\n",
       "                        <td style=\"text-align: left;\">\n",
       "                            <strong>Nanny: </strong> tcp://127.0.0.1:46191\n",
       "                        </td>\n",
       "                        <td style=\"text-align: left;\"></td>\n",
       "                    </tr>\n",
       "                    <tr>\n",
       "                        <td colspan=\"2\" style=\"text-align: left;\">\n",
       "                            <strong>Local directory: </strong> /tmp/dask-scratch-space/worker-yhissczb\n",
       "                        </td>\n",
       "                    </tr>\n",
       "\n",
       "                    \n",
       "                    <tr>\n",
       "                        <td style=\"text-align: left;\">\n",
       "                            <strong>GPU: </strong>NVIDIA GeForce RTX 4070\n",
       "                        </td>\n",
       "                        <td style=\"text-align: left;\">\n",
       "                            <strong>GPU memory: </strong> 11.99 GiB\n",
       "                        </td>\n",
       "                    </tr>\n",
       "                    \n",
       "\n",
       "                    \n",
       "\n",
       "                </table>\n",
       "            </details>\n",
       "            </div>\n",
       "        </div>\n",
       "        \n",
       "        <div style=\"margin-bottom: 20px;\">\n",
       "            <div style=\"width: 24px; height: 24px; background-color: #DBF5FF; border: 3px solid #4CC9FF; border-radius: 5px; position: absolute;\"> </div>\n",
       "            <div style=\"margin-left: 48px;\">\n",
       "            <details>\n",
       "                <summary>\n",
       "                    <h4 style=\"margin-bottom: 0px; display: inline;\">Worker: 2</h4>\n",
       "                </summary>\n",
       "                <table style=\"width: 100%; text-align: left;\">\n",
       "                    <tr>\n",
       "                        <td style=\"text-align: left;\">\n",
       "                            <strong>Comm: </strong> tcp://127.0.0.1:33383\n",
       "                        </td>\n",
       "                        <td style=\"text-align: left;\">\n",
       "                            <strong>Total threads: </strong> 5\n",
       "                        </td>\n",
       "                    </tr>\n",
       "                    <tr>\n",
       "                        <td style=\"text-align: left;\">\n",
       "                            <strong>Dashboard: </strong> <a href=\"http://127.0.0.1:40657/status\" target=\"_blank\">http://127.0.0.1:40657/status</a>\n",
       "                        </td>\n",
       "                        <td style=\"text-align: left;\">\n",
       "                            <strong>Memory: </strong> 7.80 GiB\n",
       "                        </td>\n",
       "                    </tr>\n",
       "                    <tr>\n",
       "                        <td style=\"text-align: left;\">\n",
       "                            <strong>Nanny: </strong> tcp://127.0.0.1:33503\n",
       "                        </td>\n",
       "                        <td style=\"text-align: left;\"></td>\n",
       "                    </tr>\n",
       "                    <tr>\n",
       "                        <td colspan=\"2\" style=\"text-align: left;\">\n",
       "                            <strong>Local directory: </strong> /tmp/dask-scratch-space/worker-gs49drdg\n",
       "                        </td>\n",
       "                    </tr>\n",
       "\n",
       "                    \n",
       "                    <tr>\n",
       "                        <td style=\"text-align: left;\">\n",
       "                            <strong>GPU: </strong>NVIDIA GeForce RTX 4070\n",
       "                        </td>\n",
       "                        <td style=\"text-align: left;\">\n",
       "                            <strong>GPU memory: </strong> 11.99 GiB\n",
       "                        </td>\n",
       "                    </tr>\n",
       "                    \n",
       "\n",
       "                    \n",
       "\n",
       "                </table>\n",
       "            </details>\n",
       "            </div>\n",
       "        </div>\n",
       "        \n",
       "        <div style=\"margin-bottom: 20px;\">\n",
       "            <div style=\"width: 24px; height: 24px; background-color: #DBF5FF; border: 3px solid #4CC9FF; border-radius: 5px; position: absolute;\"> </div>\n",
       "            <div style=\"margin-left: 48px;\">\n",
       "            <details>\n",
       "                <summary>\n",
       "                    <h4 style=\"margin-bottom: 0px; display: inline;\">Worker: 3</h4>\n",
       "                </summary>\n",
       "                <table style=\"width: 100%; text-align: left;\">\n",
       "                    <tr>\n",
       "                        <td style=\"text-align: left;\">\n",
       "                            <strong>Comm: </strong> tcp://127.0.0.1:42675\n",
       "                        </td>\n",
       "                        <td style=\"text-align: left;\">\n",
       "                            <strong>Total threads: </strong> 5\n",
       "                        </td>\n",
       "                    </tr>\n",
       "                    <tr>\n",
       "                        <td style=\"text-align: left;\">\n",
       "                            <strong>Dashboard: </strong> <a href=\"http://127.0.0.1:44967/status\" target=\"_blank\">http://127.0.0.1:44967/status</a>\n",
       "                        </td>\n",
       "                        <td style=\"text-align: left;\">\n",
       "                            <strong>Memory: </strong> 7.80 GiB\n",
       "                        </td>\n",
       "                    </tr>\n",
       "                    <tr>\n",
       "                        <td style=\"text-align: left;\">\n",
       "                            <strong>Nanny: </strong> tcp://127.0.0.1:35499\n",
       "                        </td>\n",
       "                        <td style=\"text-align: left;\"></td>\n",
       "                    </tr>\n",
       "                    <tr>\n",
       "                        <td colspan=\"2\" style=\"text-align: left;\">\n",
       "                            <strong>Local directory: </strong> /tmp/dask-scratch-space/worker-ht9j7n45\n",
       "                        </td>\n",
       "                    </tr>\n",
       "\n",
       "                    \n",
       "                    <tr>\n",
       "                        <td style=\"text-align: left;\">\n",
       "                            <strong>GPU: </strong>NVIDIA GeForce RTX 4070\n",
       "                        </td>\n",
       "                        <td style=\"text-align: left;\">\n",
       "                            <strong>GPU memory: </strong> 11.99 GiB\n",
       "                        </td>\n",
       "                    </tr>\n",
       "                    \n",
       "\n",
       "                    \n",
       "\n",
       "                </table>\n",
       "            </details>\n",
       "            </div>\n",
       "        </div>\n",
       "        \n",
       "\n",
       "    </details>\n",
       "</div>\n",
       "\n",
       "        </details>\n",
       "    </div>\n",
       "</div>\n",
       "            </details>\n",
       "        \n",
       "\n",
       "    </div>\n",
       "</div>"
      ],
      "text/plain": [
       "<Client: 'tcp://127.0.0.1:43855' processes=4 threads=20, memory=31.20 GiB>"
      ]
     },
     "execution_count": 32,
     "metadata": {},
     "output_type": "execute_result"
    }
   ],
   "source": [
    "client"
   ]
  },
  {
   "cell_type": "code",
   "execution_count": 33,
   "id": "9196ffd8-2ad1-41c7-b9a8-f3c64168a6f1",
   "metadata": {},
   "outputs": [],
   "source": [
    "import time\n",
    "\n",
    "\n",
    "def sleep_1():\n",
    "    time.sleep(1)\n",
    "    return 'Success!'"
   ]
  },
  {
   "cell_type": "code",
   "execution_count": 34,
   "id": "7cd92064-6d53-4e32-bee2-fd586eba9d1a",
   "metadata": {},
   "outputs": [
    {
     "name": "stdout",
     "output_type": "stream",
     "text": [
      "CPU times: user 211 ms, sys: 98 ms, total: 309 ms\n",
      "Wall time: 4 s\n"
     ]
    }
   ],
   "source": [
    "%%time\n",
    "\n",
    "for _ in range(n_workers):\n",
    "    sleep_1()"
   ]
  },
  {
   "cell_type": "code",
   "execution_count": 35,
   "id": "16bb5e68-45bf-4563-991b-03c625d67086",
   "metadata": {},
   "outputs": [],
   "source": [
    "from dask.delayed import delayed"
   ]
  },
  {
   "cell_type": "code",
   "execution_count": 36,
   "id": "79ab760c-eda6-4365-86f5-03ed340e682d",
   "metadata": {},
   "outputs": [
    {
     "name": "stdout",
     "output_type": "stream",
     "text": [
      "['Success!', 'Success!', 'Success!', 'Success!']\n",
      "CPU times: user 66.3 ms, sys: 36.3 ms, total: 103 ms\n",
      "Wall time: 1.03 s\n"
     ]
    }
   ],
   "source": [
    "%%time\n",
    "\n",
    "# define delayed execution graph\n",
    "sleep_operations = [delayed(sleep_1)() for _ in range(n_workers)]\n",
    "\n",
    "# use client to perform computations using execution graph\n",
    "sleep_futures = client.compute(sleep_operations, optimize_graph=False, fifo_timeout=\"0ms\")\n",
    "\n",
    "# collect and print results\n",
    "sleep_results = client.gather(sleep_futures)\n",
    "print(sleep_results)"
   ]
  },
  {
   "cell_type": "code",
   "execution_count": 40,
   "id": "c83b6c5e-777a-4a3c-9ec7-0136282879c0",
   "metadata": {},
   "outputs": [
    {
     "name": "stderr",
     "output_type": "stream",
     "text": [
      "/home/kamal/gitfolders/one-click-installers/installer_files/conda/envs/rapids-23.08/lib/python3.10/site-packages/distributed/node.py:182: UserWarning: Port 8787 is already in use.\n",
      "Perhaps you already have a cluster running?\n",
      "Hosting the HTTP server on port 46359 instead\n",
      "  warnings.warn(\n"
     ]
    }
   ],
   "source": [
    "from dask.distributed import Client\n",
    "# import dask_cuda; print('Dask CUDA Version:', dask_cuda.__version__)\n",
    "from dask_cuda import LocalCUDACluster\n",
    "\n",
    "\n",
    "# create a local CUDA cluster\n",
    "cluster = LocalCUDACluster(n_workers=1)\n",
    "client = Client(cluster)"
   ]
  },
  {
   "cell_type": "code",
   "execution_count": 41,
   "id": "99a7a02c-da36-4370-8822-2b54e5d8ad4c",
   "metadata": {},
   "outputs": [
    {
     "data": {
      "text/html": [
       "<div>\n",
       "    <div style=\"width: 24px; height: 24px; background-color: #e1e1e1; border: 3px solid #9D9D9D; border-radius: 5px; position: absolute;\"> </div>\n",
       "    <div style=\"margin-left: 48px;\">\n",
       "        <h3 style=\"margin-bottom: 0px;\">Client</h3>\n",
       "        <p style=\"color: #9D9D9D; margin-bottom: 0px;\">Client-e500c968-4f8d-11ee-a682-f4c88ae06f82</p>\n",
       "        <table style=\"width: 100%; text-align: left;\">\n",
       "\n",
       "        <tr>\n",
       "        \n",
       "            <td style=\"text-align: left;\"><strong>Connection method:</strong> Cluster object</td>\n",
       "            <td style=\"text-align: left;\"><strong>Cluster type:</strong> dask_cuda.LocalCUDACluster</td>\n",
       "        \n",
       "        </tr>\n",
       "\n",
       "        \n",
       "            <tr>\n",
       "                <td style=\"text-align: left;\">\n",
       "                    <strong>Dashboard: </strong> <a href=\"http://127.0.0.1:46359/status\" target=\"_blank\">http://127.0.0.1:46359/status</a>\n",
       "                </td>\n",
       "                <td style=\"text-align: left;\"></td>\n",
       "            </tr>\n",
       "        \n",
       "\n",
       "        </table>\n",
       "\n",
       "        \n",
       "\n",
       "        \n",
       "            <details>\n",
       "            <summary style=\"margin-bottom: 20px;\"><h3 style=\"display: inline;\">Cluster Info</h3></summary>\n",
       "            <div class=\"jp-RenderedHTMLCommon jp-RenderedHTML jp-mod-trusted jp-OutputArea-output\">\n",
       "    <div style=\"width: 24px; height: 24px; background-color: #e1e1e1; border: 3px solid #9D9D9D; border-radius: 5px; position: absolute;\">\n",
       "    </div>\n",
       "    <div style=\"margin-left: 48px;\">\n",
       "        <h3 style=\"margin-bottom: 0px; margin-top: 0px;\">LocalCUDACluster</h3>\n",
       "        <p style=\"color: #9D9D9D; margin-bottom: 0px;\">fefedb7c</p>\n",
       "        <table style=\"width: 100%; text-align: left;\">\n",
       "            <tr>\n",
       "                <td style=\"text-align: left;\">\n",
       "                    <strong>Dashboard:</strong> <a href=\"http://127.0.0.1:46359/status\" target=\"_blank\">http://127.0.0.1:46359/status</a>\n",
       "                </td>\n",
       "                <td style=\"text-align: left;\">\n",
       "                    <strong>Workers:</strong> 1\n",
       "                </td>\n",
       "            </tr>\n",
       "            <tr>\n",
       "                <td style=\"text-align: left;\">\n",
       "                    <strong>Total threads:</strong> 1\n",
       "                </td>\n",
       "                <td style=\"text-align: left;\">\n",
       "                    <strong>Total memory:</strong> 31.20 GiB\n",
       "                </td>\n",
       "            </tr>\n",
       "            \n",
       "            <tr>\n",
       "    <td style=\"text-align: left;\"><strong>Status:</strong> running</td>\n",
       "    <td style=\"text-align: left;\"><strong>Using processes:</strong> True</td>\n",
       "</tr>\n",
       "\n",
       "            \n",
       "        </table>\n",
       "\n",
       "        <details>\n",
       "            <summary style=\"margin-bottom: 20px;\">\n",
       "                <h3 style=\"display: inline;\">Scheduler Info</h3>\n",
       "            </summary>\n",
       "\n",
       "            <div style=\"\">\n",
       "    <div>\n",
       "        <div style=\"width: 24px; height: 24px; background-color: #FFF7E5; border: 3px solid #FF6132; border-radius: 5px; position: absolute;\"> </div>\n",
       "        <div style=\"margin-left: 48px;\">\n",
       "            <h3 style=\"margin-bottom: 0px;\">Scheduler</h3>\n",
       "            <p style=\"color: #9D9D9D; margin-bottom: 0px;\">Scheduler-b6901778-028c-4f5d-87a3-588296e3725d</p>\n",
       "            <table style=\"width: 100%; text-align: left;\">\n",
       "                <tr>\n",
       "                    <td style=\"text-align: left;\">\n",
       "                        <strong>Comm:</strong> tcp://127.0.0.1:40921\n",
       "                    </td>\n",
       "                    <td style=\"text-align: left;\">\n",
       "                        <strong>Workers:</strong> 1\n",
       "                    </td>\n",
       "                </tr>\n",
       "                <tr>\n",
       "                    <td style=\"text-align: left;\">\n",
       "                        <strong>Dashboard:</strong> <a href=\"http://127.0.0.1:46359/status\" target=\"_blank\">http://127.0.0.1:46359/status</a>\n",
       "                    </td>\n",
       "                    <td style=\"text-align: left;\">\n",
       "                        <strong>Total threads:</strong> 1\n",
       "                    </td>\n",
       "                </tr>\n",
       "                <tr>\n",
       "                    <td style=\"text-align: left;\">\n",
       "                        <strong>Started:</strong> Just now\n",
       "                    </td>\n",
       "                    <td style=\"text-align: left;\">\n",
       "                        <strong>Total memory:</strong> 31.20 GiB\n",
       "                    </td>\n",
       "                </tr>\n",
       "            </table>\n",
       "        </div>\n",
       "    </div>\n",
       "\n",
       "    <details style=\"margin-left: 48px;\">\n",
       "        <summary style=\"margin-bottom: 20px;\">\n",
       "            <h3 style=\"display: inline;\">Workers</h3>\n",
       "        </summary>\n",
       "\n",
       "        \n",
       "        <div style=\"margin-bottom: 20px;\">\n",
       "            <div style=\"width: 24px; height: 24px; background-color: #DBF5FF; border: 3px solid #4CC9FF; border-radius: 5px; position: absolute;\"> </div>\n",
       "            <div style=\"margin-left: 48px;\">\n",
       "            <details>\n",
       "                <summary>\n",
       "                    <h4 style=\"margin-bottom: 0px; display: inline;\">Worker: 0</h4>\n",
       "                </summary>\n",
       "                <table style=\"width: 100%; text-align: left;\">\n",
       "                    <tr>\n",
       "                        <td style=\"text-align: left;\">\n",
       "                            <strong>Comm: </strong> tcp://127.0.0.1:41605\n",
       "                        </td>\n",
       "                        <td style=\"text-align: left;\">\n",
       "                            <strong>Total threads: </strong> 1\n",
       "                        </td>\n",
       "                    </tr>\n",
       "                    <tr>\n",
       "                        <td style=\"text-align: left;\">\n",
       "                            <strong>Dashboard: </strong> <a href=\"http://127.0.0.1:43113/status\" target=\"_blank\">http://127.0.0.1:43113/status</a>\n",
       "                        </td>\n",
       "                        <td style=\"text-align: left;\">\n",
       "                            <strong>Memory: </strong> 31.20 GiB\n",
       "                        </td>\n",
       "                    </tr>\n",
       "                    <tr>\n",
       "                        <td style=\"text-align: left;\">\n",
       "                            <strong>Nanny: </strong> tcp://127.0.0.1:36997\n",
       "                        </td>\n",
       "                        <td style=\"text-align: left;\"></td>\n",
       "                    </tr>\n",
       "                    <tr>\n",
       "                        <td colspan=\"2\" style=\"text-align: left;\">\n",
       "                            <strong>Local directory: </strong> /tmp/dask-scratch-space/worker-e_aohifh\n",
       "                        </td>\n",
       "                    </tr>\n",
       "\n",
       "                    \n",
       "                    <tr>\n",
       "                        <td style=\"text-align: left;\">\n",
       "                            <strong>GPU: </strong>NVIDIA GeForce RTX 4070\n",
       "                        </td>\n",
       "                        <td style=\"text-align: left;\">\n",
       "                            <strong>GPU memory: </strong> 11.99 GiB\n",
       "                        </td>\n",
       "                    </tr>\n",
       "                    \n",
       "\n",
       "                    \n",
       "\n",
       "                </table>\n",
       "            </details>\n",
       "            </div>\n",
       "        </div>\n",
       "        \n",
       "\n",
       "    </details>\n",
       "</div>\n",
       "\n",
       "        </details>\n",
       "    </div>\n",
       "</div>\n",
       "            </details>\n",
       "        \n",
       "\n",
       "    </div>\n",
       "</div>"
      ],
      "text/plain": [
       "<Client: 'tcp://127.0.0.1:40921' processes=1 threads=1, memory=31.20 GiB>"
      ]
     },
     "execution_count": 41,
     "metadata": {},
     "output_type": "execute_result"
    }
   ],
   "source": [
    "client"
   ]
  },
  {
   "cell_type": "code",
   "execution_count": 42,
   "id": "fcaa4841-e706-4df9-9153-0520698d4880",
   "metadata": {},
   "outputs": [],
   "source": [
    "# identify number of workers\n",
    "workers = client.has_what().keys()\n",
    "n_workers = len(workers)"
   ]
  },
  {
   "cell_type": "code",
   "execution_count": 43,
   "id": "007e5106-a346-42b0-8259-5c5701b72a65",
   "metadata": {},
   "outputs": [
    {
     "data": {
      "text/plain": [
       "dict_keys(['tcp://127.0.0.1:41605'])"
      ]
     },
     "execution_count": 43,
     "metadata": {},
     "output_type": "execute_result"
    }
   ],
   "source": [
    "workers"
   ]
  },
  {
   "cell_type": "code",
   "execution_count": 45,
   "id": "3b7343f8-8dc5-4291-a09f-6eb0fc39011b",
   "metadata": {},
   "outputs": [],
   "source": [
    "# create a cuDF DataFrame with two columns named \"key\" and \"value\"\n",
    "df = cd.DataFrame()\n",
    "n_rows = 100000000  # let's process 100 million rows in a distributed parallel fashion\n",
    "df['key'] = np.random.binomial(1, 0.2, size=(n_rows))\n",
    "df['value'] = np.random.normal(size=(n_rows))"
   ]
  },
  {
   "cell_type": "code",
   "execution_count": 47,
   "id": "3a35c3ff-85ef-4bb9-bdd3-18e6a38a0be1",
   "metadata": {},
   "outputs": [
    {
     "name": "stdout",
     "output_type": "stream",
     "text": [
      "../../thread/thread_load.cuh(36): warning: cuda.h: [jitify] File not found\n",
      "../../thread/thread_store.cuh(36): warning: cuda.h: [jitify] File not found\n"
     ]
    }
   ],
   "source": [
    "import dask_cudf\n",
    "# create a distributed cuDF DataFrame using Dask\n",
    "distributed_df = dask_cudf.from_cudf(df, npartitions=n_workers)"
   ]
  },
  {
   "cell_type": "code",
   "execution_count": 48,
   "id": "7b287316-b66d-4e11-9b8c-dec5e7a94014",
   "metadata": {},
   "outputs": [
    {
     "name": "stdout",
     "output_type": "stream",
     "text": [
      "---------------\n",
      "Type of our Dask cuDF DataFrame: <class 'dask_cudf.core.DataFrame'>\n",
      "---------------\n"
     ]
    },
    {
     "name": "stderr",
     "output_type": "stream",
     "text": [
      "/home/kamal/gitfolders/one-click-installers/installer_files/conda/envs/rapids-23.08/lib/python3.10/site-packages/distributed/client.py:3141: UserWarning: Sending large graph of size 1.49 GiB.\n",
      "This may cause some slowdown.\n",
      "Consider scattering data ahead of time and using futures.\n",
      "  warnings.warn(\n"
     ]
    },
    {
     "name": "stdout",
     "output_type": "stream",
     "text": [
      "   key     value\n",
      "0    0  0.111640\n",
      "1    1  0.712618\n",
      "2    0 -1.781317\n",
      "3    0  2.163794\n",
      "4    0  0.489024\n"
     ]
    }
   ],
   "source": [
    "# inspect our distributed cuDF DataFrame using Dask\n",
    "print('-' * 15)\n",
    "print('Type of our Dask cuDF DataFrame:', type(distributed_df))\n",
    "print('-' * 15)\n",
    "print(distributed_df.head())"
   ]
  },
  {
   "cell_type": "code",
   "execution_count": 50,
   "id": "e610df0e-3c1b-48c9-a92b-334142c7caa0",
   "metadata": {},
   "outputs": [
    {
     "name": "stdout",
     "output_type": "stream",
     "text": [
      "589.4565112669115\n"
     ]
    }
   ],
   "source": [
    "aggregation = distributed_df['value'].sum()\n",
    "print(aggregation.compute())"
   ]
  },
  {
   "cell_type": "markdown",
   "id": "288dabd5-d8b1-4ba1-a773-1fa83d4c9fab",
   "metadata": {},
   "source": [
    "## Diving into cuDF"
   ]
  },
  {
   "cell_type": "code",
   "execution_count": 51,
   "id": "aff932aa-18ea-47bf-a96a-8f9ab96a149c",
   "metadata": {},
   "outputs": [
    {
     "data": {
      "text/plain": [
       "0    8\n",
       "1    5\n",
       "2    2\n",
       "3    6\n",
       "4    3\n",
       "5    9\n",
       "dtype: int64"
      ]
     },
     "execution_count": 51,
     "metadata": {},
     "output_type": "execute_result"
    }
   ],
   "source": [
    "import cudf as cd\n",
    "\n",
    "cols = cd.Series([8,5,2,6,3,9])\n",
    "cols #printing it is not making much difference"
   ]
  },
  {
   "cell_type": "code",
   "execution_count": 54,
   "id": "53022d57-6413-4c12-a61f-56d95d4252d0",
   "metadata": {},
   "outputs": [
    {
     "name": "stdout",
     "output_type": "stream",
     "text": [
      "Empty DataFrame\n",
      "Columns: []\n",
      "Index: []\n"
     ]
    }
   ],
   "source": [
    "df = cd.DataFrame()\n",
    "print(df) #just trying to get output will give a blank "
   ]
  },
  {
   "cell_type": "code",
   "execution_count": 56,
   "id": "6ab8227b-fe27-4823-97d1-32021555492b",
   "metadata": {},
   "outputs": [
    {
     "data": {
      "text/plain": [
       "datetime.datetime(2022, 7, 9, 15, 0, 57)"
      ]
     },
     "execution_count": 56,
     "metadata": {},
     "output_type": "execute_result"
    }
   ],
   "source": [
    "from datetime import datetime, timedelta\n",
    "\n",
    "ids = np.arange(5)\n",
    "t0 = datetime.strptime('2022-07-09 15:00:57', '%Y-%m-%d %H:%M:%S')\n",
    "t0"
   ]
  },
  {
   "cell_type": "code",
   "execution_count": 59,
   "id": "c3eb7d4f-25e3-4cb5-b9fa-7f3869ab5dee",
   "metadata": {},
   "outputs": [],
   "source": [
    "tstamp = [(t0 + timedelta(seconds = x + 6)) for x in range(5)]\n",
    "tstmp_np = np.array(tstamp,dtype='datetime64')"
   ]
  },
  {
   "cell_type": "code",
   "execution_count": 60,
   "id": "3fa07f9a-edcd-4589-bb9a-346820c3e962",
   "metadata": {},
   "outputs": [
    {
     "data": {
      "text/plain": [
       "array(['2022-07-09T15:01:03.000000', '2022-07-09T15:01:04.000000',\n",
       "       '2022-07-09T15:01:05.000000', '2022-07-09T15:01:06.000000',\n",
       "       '2022-07-09T15:01:07.000000'], dtype='datetime64[us]')"
      ]
     },
     "execution_count": 60,
     "metadata": {},
     "output_type": "execute_result"
    }
   ],
   "source": [
    "tstmp_np"
   ]
  },
  {
   "cell_type": "code",
   "execution_count": 61,
   "id": "c066a69a-e3ef-4306-90cf-567b7622d3b1",
   "metadata": {},
   "outputs": [],
   "source": [
    "df['ids'] = ids\n",
    "df['stamps'] = tstmp_np"
   ]
  },
  {
   "cell_type": "code",
   "execution_count": 62,
   "id": "e9498846-7376-4771-b84c-54d8286c2d8d",
   "metadata": {},
   "outputs": [
    {
     "data": {
      "text/html": [
       "<div>\n",
       "<style scoped>\n",
       "    .dataframe tbody tr th:only-of-type {\n",
       "        vertical-align: middle;\n",
       "    }\n",
       "\n",
       "    .dataframe tbody tr th {\n",
       "        vertical-align: top;\n",
       "    }\n",
       "\n",
       "    .dataframe thead th {\n",
       "        text-align: right;\n",
       "    }\n",
       "</style>\n",
       "<table border=\"1\" class=\"dataframe\">\n",
       "  <thead>\n",
       "    <tr style=\"text-align: right;\">\n",
       "      <th></th>\n",
       "      <th>ids</th>\n",
       "      <th>stamps</th>\n",
       "    </tr>\n",
       "  </thead>\n",
       "  <tbody>\n",
       "    <tr>\n",
       "      <th>0</th>\n",
       "      <td>0</td>\n",
       "      <td>2022-07-09 15:01:03</td>\n",
       "    </tr>\n",
       "    <tr>\n",
       "      <th>1</th>\n",
       "      <td>1</td>\n",
       "      <td>2022-07-09 15:01:04</td>\n",
       "    </tr>\n",
       "    <tr>\n",
       "      <th>2</th>\n",
       "      <td>2</td>\n",
       "      <td>2022-07-09 15:01:05</td>\n",
       "    </tr>\n",
       "    <tr>\n",
       "      <th>3</th>\n",
       "      <td>3</td>\n",
       "      <td>2022-07-09 15:01:06</td>\n",
       "    </tr>\n",
       "    <tr>\n",
       "      <th>4</th>\n",
       "      <td>4</td>\n",
       "      <td>2022-07-09 15:01:07</td>\n",
       "    </tr>\n",
       "  </tbody>\n",
       "</table>\n",
       "</div>"
      ],
      "text/plain": [
       "   ids              stamps\n",
       "0    0 2022-07-09 15:01:03\n",
       "1    1 2022-07-09 15:01:04\n",
       "2    2 2022-07-09 15:01:05\n",
       "3    3 2022-07-09 15:01:06\n",
       "4    4 2022-07-09 15:01:07"
      ]
     },
     "execution_count": 62,
     "metadata": {},
     "output_type": "execute_result"
    }
   ],
   "source": [
    "df"
   ]
  },
  {
   "cell_type": "code",
   "execution_count": 64,
   "id": "8d31f591-2006-4a2a-9d03-601099050a39",
   "metadata": {},
   "outputs": [],
   "source": [
    "import pandas as pd\n",
    "\n",
    "pandas_df = pd.DataFrame({'a': [0, 1, 2, 3, 4, 5, 6, 7, 8, 9, 10],\n",
    "                          'b': [0.0, 0.1, 0.2, None, 0.4, 0.5, 0.6, 0.7, 0.8, 0.9, 1.0]})"
   ]
  },
  {
   "cell_type": "code",
   "execution_count": 66,
   "id": "093e0e20-cc65-4ba4-a8a1-8357c978ca43",
   "metadata": {},
   "outputs": [
    {
     "data": {
      "text/html": [
       "<div>\n",
       "<style scoped>\n",
       "    .dataframe tbody tr th:only-of-type {\n",
       "        vertical-align: middle;\n",
       "    }\n",
       "\n",
       "    .dataframe tbody tr th {\n",
       "        vertical-align: top;\n",
       "    }\n",
       "\n",
       "    .dataframe thead th {\n",
       "        text-align: right;\n",
       "    }\n",
       "</style>\n",
       "<table border=\"1\" class=\"dataframe\">\n",
       "  <thead>\n",
       "    <tr style=\"text-align: right;\">\n",
       "      <th></th>\n",
       "      <th>a</th>\n",
       "      <th>b</th>\n",
       "    </tr>\n",
       "  </thead>\n",
       "  <tbody>\n",
       "    <tr>\n",
       "      <th>0</th>\n",
       "      <td>0</td>\n",
       "      <td>0.0</td>\n",
       "    </tr>\n",
       "    <tr>\n",
       "      <th>1</th>\n",
       "      <td>1</td>\n",
       "      <td>0.1</td>\n",
       "    </tr>\n",
       "  </tbody>\n",
       "</table>\n",
       "</div>"
      ],
      "text/plain": [
       "   a    b\n",
       "0  0  0.0\n",
       "1  1  0.1"
      ]
     },
     "execution_count": 66,
     "metadata": {},
     "output_type": "execute_result"
    }
   ],
   "source": [
    "cdf = cd.from_pandas(pandas_df)\n",
    "cdf.head(2)"
   ]
  },
  {
   "cell_type": "code",
   "execution_count": 67,
   "id": "01821659-7ffa-441f-bf7c-5b304f3dbe75",
   "metadata": {},
   "outputs": [
    {
     "data": {
      "text/html": [
       "<div>\n",
       "<style scoped>\n",
       "    .dataframe tbody tr th:only-of-type {\n",
       "        vertical-align: middle;\n",
       "    }\n",
       "\n",
       "    .dataframe tbody tr th {\n",
       "        vertical-align: top;\n",
       "    }\n",
       "\n",
       "    .dataframe thead th {\n",
       "        text-align: right;\n",
       "    }\n",
       "</style>\n",
       "<table border=\"1\" class=\"dataframe\">\n",
       "  <thead>\n",
       "    <tr style=\"text-align: right;\">\n",
       "      <th></th>\n",
       "      <th>col1</th>\n",
       "      <th>col2</th>\n",
       "      <th>col3</th>\n",
       "    </tr>\n",
       "  </thead>\n",
       "  <tbody>\n",
       "    <tr>\n",
       "      <th>0</th>\n",
       "      <td>1</td>\n",
       "      <td>2</td>\n",
       "      <td>11</td>\n",
       "    </tr>\n",
       "    <tr>\n",
       "      <th>1</th>\n",
       "      <td>5</td>\n",
       "      <td>6</td>\n",
       "      <td>12</td>\n",
       "    </tr>\n",
       "    <tr>\n",
       "      <th>2</th>\n",
       "      <td>7</td>\n",
       "      <td>8</td>\n",
       "      <td>13</td>\n",
       "    </tr>\n",
       "    <tr>\n",
       "      <th>3</th>\n",
       "      <td>9</td>\n",
       "      <td>4</td>\n",
       "      <td>15</td>\n",
       "    </tr>\n",
       "  </tbody>\n",
       "</table>\n",
       "</div>"
      ],
      "text/plain": [
       "   col1  col2  col3\n",
       "0     1     2    11\n",
       "1     5     6    12\n",
       "2     7     8    13\n",
       "3     9     4    15"
      ]
     },
     "execution_count": 67,
     "metadata": {},
     "output_type": "execute_result"
    }
   ],
   "source": [
    "cl1 = cd.Series([1,5,7,9])\n",
    "cl2 = cd.Series([2,6,8,4])\n",
    "cl3 = cd.Series([11,12,13,15])\n",
    "nwdf = cd.DataFrame({'col1':cl1,'col2':cl2,'col3':cl3})\n",
    "nwdf"
   ]
  },
  {
   "cell_type": "code",
   "execution_count": 69,
   "id": "972ca2e5-0463-46e9-9a3a-cb71ebd62499",
   "metadata": {},
   "outputs": [],
   "source": [
    "df = cd.DataFrame({'a': np.arange(0, 100), \n",
    "                     'b': np.arange(100, 0, -1)})"
   ]
  },
  {
   "cell_type": "code",
   "execution_count": 70,
   "id": "9bb49abc-15da-400f-8356-3a9c23b2999b",
   "metadata": {},
   "outputs": [
    {
     "data": {
      "text/plain": [
       "a    int64\n",
       "b    int64\n",
       "dtype: object"
      ]
     },
     "execution_count": 70,
     "metadata": {},
     "output_type": "execute_result"
    }
   ],
   "source": [
    "df.dtypes"
   ]
  },
  {
   "cell_type": "code",
   "execution_count": 74,
   "id": "ece22d91-bdde-4f88-9ca7-4b23e5536e55",
   "metadata": {},
   "outputs": [],
   "source": [
    "df['c'] = df['b'].astype(np.float32)\n",
    "df['d'] = df['a'].astype(np.int32)"
   ]
  },
  {
   "cell_type": "code",
   "execution_count": 76,
   "id": "3770d9b9-70ff-4c85-a315-4ff260ec3294",
   "metadata": {},
   "outputs": [
    {
     "data": {
      "text/plain": [
       "a      int64\n",
       "b      int64\n",
       "c    float32\n",
       "d      int32\n",
       "dtype: object"
      ]
     },
     "execution_count": 76,
     "metadata": {},
     "output_type": "execute_result"
    }
   ],
   "source": [
    "df.dtypes"
   ]
  },
  {
   "cell_type": "code",
   "execution_count": 77,
   "id": "9ac844e2-f542-4230-bbbf-97091ffa78cb",
   "metadata": {},
   "outputs": [
    {
     "data": {
      "text/plain": [
       "RangeIndex(start=0, stop=100, step=1)"
      ]
     },
     "execution_count": 77,
     "metadata": {},
     "output_type": "execute_result"
    }
   ],
   "source": [
    "df.index"
   ]
  },
  {
   "cell_type": "code",
   "execution_count": 78,
   "id": "01f732c7-7d26-4719-9521-15dc1c643bb9",
   "metadata": {
    "collapsed": true,
    "jupyter": {
     "outputs_hidden": true
    }
   },
   "outputs": [
    {
     "data": {
      "text/plain": [
       "array([[  0., 100., 100.,   0.],\n",
       "       [  1.,  99.,  99.,   1.],\n",
       "       [  2.,  98.,  98.,   2.],\n",
       "       [  3.,  97.,  97.,   3.],\n",
       "       [  4.,  96.,  96.,   4.],\n",
       "       [  5.,  95.,  95.,   5.],\n",
       "       [  6.,  94.,  94.,   6.],\n",
       "       [  7.,  93.,  93.,   7.],\n",
       "       [  8.,  92.,  92.,   8.],\n",
       "       [  9.,  91.,  91.,   9.],\n",
       "       [ 10.,  90.,  90.,  10.],\n",
       "       [ 11.,  89.,  89.,  11.],\n",
       "       [ 12.,  88.,  88.,  12.],\n",
       "       [ 13.,  87.,  87.,  13.],\n",
       "       [ 14.,  86.,  86.,  14.],\n",
       "       [ 15.,  85.,  85.,  15.],\n",
       "       [ 16.,  84.,  84.,  16.],\n",
       "       [ 17.,  83.,  83.,  17.],\n",
       "       [ 18.,  82.,  82.,  18.],\n",
       "       [ 19.,  81.,  81.,  19.],\n",
       "       [ 20.,  80.,  80.,  20.],\n",
       "       [ 21.,  79.,  79.,  21.],\n",
       "       [ 22.,  78.,  78.,  22.],\n",
       "       [ 23.,  77.,  77.,  23.],\n",
       "       [ 24.,  76.,  76.,  24.],\n",
       "       [ 25.,  75.,  75.,  25.],\n",
       "       [ 26.,  74.,  74.,  26.],\n",
       "       [ 27.,  73.,  73.,  27.],\n",
       "       [ 28.,  72.,  72.,  28.],\n",
       "       [ 29.,  71.,  71.,  29.],\n",
       "       [ 30.,  70.,  70.,  30.],\n",
       "       [ 31.,  69.,  69.,  31.],\n",
       "       [ 32.,  68.,  68.,  32.],\n",
       "       [ 33.,  67.,  67.,  33.],\n",
       "       [ 34.,  66.,  66.,  34.],\n",
       "       [ 35.,  65.,  65.,  35.],\n",
       "       [ 36.,  64.,  64.,  36.],\n",
       "       [ 37.,  63.,  63.,  37.],\n",
       "       [ 38.,  62.,  62.,  38.],\n",
       "       [ 39.,  61.,  61.,  39.],\n",
       "       [ 40.,  60.,  60.,  40.],\n",
       "       [ 41.,  59.,  59.,  41.],\n",
       "       [ 42.,  58.,  58.,  42.],\n",
       "       [ 43.,  57.,  57.,  43.],\n",
       "       [ 44.,  56.,  56.,  44.],\n",
       "       [ 45.,  55.,  55.,  45.],\n",
       "       [ 46.,  54.,  54.,  46.],\n",
       "       [ 47.,  53.,  53.,  47.],\n",
       "       [ 48.,  52.,  52.,  48.],\n",
       "       [ 49.,  51.,  51.,  49.],\n",
       "       [ 50.,  50.,  50.,  50.],\n",
       "       [ 51.,  49.,  49.,  51.],\n",
       "       [ 52.,  48.,  48.,  52.],\n",
       "       [ 53.,  47.,  47.,  53.],\n",
       "       [ 54.,  46.,  46.,  54.],\n",
       "       [ 55.,  45.,  45.,  55.],\n",
       "       [ 56.,  44.,  44.,  56.],\n",
       "       [ 57.,  43.,  43.,  57.],\n",
       "       [ 58.,  42.,  42.,  58.],\n",
       "       [ 59.,  41.,  41.,  59.],\n",
       "       [ 60.,  40.,  40.,  60.],\n",
       "       [ 61.,  39.,  39.,  61.],\n",
       "       [ 62.,  38.,  38.,  62.],\n",
       "       [ 63.,  37.,  37.,  63.],\n",
       "       [ 64.,  36.,  36.,  64.],\n",
       "       [ 65.,  35.,  35.,  65.],\n",
       "       [ 66.,  34.,  34.,  66.],\n",
       "       [ 67.,  33.,  33.,  67.],\n",
       "       [ 68.,  32.,  32.,  68.],\n",
       "       [ 69.,  31.,  31.,  69.],\n",
       "       [ 70.,  30.,  30.,  70.],\n",
       "       [ 71.,  29.,  29.,  71.],\n",
       "       [ 72.,  28.,  28.,  72.],\n",
       "       [ 73.,  27.,  27.,  73.],\n",
       "       [ 74.,  26.,  26.,  74.],\n",
       "       [ 75.,  25.,  25.,  75.],\n",
       "       [ 76.,  24.,  24.,  76.],\n",
       "       [ 77.,  23.,  23.,  77.],\n",
       "       [ 78.,  22.,  22.,  78.],\n",
       "       [ 79.,  21.,  21.,  79.],\n",
       "       [ 80.,  20.,  20.,  80.],\n",
       "       [ 81.,  19.,  19.,  81.],\n",
       "       [ 82.,  18.,  18.,  82.],\n",
       "       [ 83.,  17.,  17.,  83.],\n",
       "       [ 84.,  16.,  16.,  84.],\n",
       "       [ 85.,  15.,  15.,  85.],\n",
       "       [ 86.,  14.,  14.,  86.],\n",
       "       [ 87.,  13.,  13.,  87.],\n",
       "       [ 88.,  12.,  12.,  88.],\n",
       "       [ 89.,  11.,  11.,  89.],\n",
       "       [ 90.,  10.,  10.,  90.],\n",
       "       [ 91.,   9.,   9.,  91.],\n",
       "       [ 92.,   8.,   8.,  92.],\n",
       "       [ 93.,   7.,   7.,  93.],\n",
       "       [ 94.,   6.,   6.,  94.],\n",
       "       [ 95.,   5.,   5.,  95.],\n",
       "       [ 96.,   4.,   4.,  96.],\n",
       "       [ 97.,   3.,   3.,  97.],\n",
       "       [ 98.,   2.,   2.,  98.],\n",
       "       [ 99.,   1.,   1.,  99.]])"
      ]
     },
     "execution_count": 78,
     "metadata": {},
     "output_type": "execute_result"
    }
   ],
   "source": [
    "#converting to np arrays\n",
    "df.to_pandas().values"
   ]
  },
  {
   "cell_type": "code",
   "execution_count": 79,
   "id": "78c6f8d5-ada6-42cd-a190-d6c7ee27c27b",
   "metadata": {},
   "outputs": [],
   "source": [
    "df.to_csv('./dataset.csv', index=False)"
   ]
  },
  {
   "cell_type": "code",
   "execution_count": 81,
   "id": "2803e640-5748-4eeb-9efa-002189a1437f",
   "metadata": {},
   "outputs": [],
   "source": [
    "df = cd.DataFrame({'a': np.arange(0, 100).astype(np.float32), \n",
    "                     'b': np.arange(100, 0, -1).astype(np.float32), \n",
    "                     'c': np.arange(100, 200).astype(np.float32)})"
   ]
  },
  {
   "cell_type": "code",
   "execution_count": 83,
   "id": "73c7a007-b394-4620-97bf-f84ad25fa953",
   "metadata": {},
   "outputs": [
    {
     "name": "stdout",
     "output_type": "stream",
     "text": [
      "     a      b      c      d\n",
      "0  0.0  100.0  100.0  200.0\n",
      "1  1.0   99.0  101.0  201.0\n"
     ]
    }
   ],
   "source": [
    "df['d'] = np.arange(200, 300).astype(np.float32)\n",
    "\n",
    "print(df.head(2))"
   ]
  },
  {
   "cell_type": "code",
   "execution_count": 84,
   "id": "ecc27790-3bf5-4cff-9871-f46ec983cb36",
   "metadata": {},
   "outputs": [
    {
     "name": "stdout",
     "output_type": "stream",
     "text": [
      "       b      c      d\n",
      "0  100.0  100.0  200.0\n",
      "1   99.0  101.0  201.0\n",
      "2   98.0  102.0  202.0\n",
      "3   97.0  103.0  203.0\n",
      "4   96.0  104.0  204.0\n"
     ]
    }
   ],
   "source": [
    "newdf = df.drop(['a'],axis=1)\n",
    "print(newdf.head())"
   ]
  },
  {
   "cell_type": "code",
   "execution_count": 85,
   "id": "6b454805-3b02-41fe-bb6b-81ecc4722318",
   "metadata": {},
   "outputs": [
    {
     "name": "stdout",
     "output_type": "stream",
     "text": [
      "       a     b     c\n",
      "0      0   0.0   0.0\n",
      "1   <NA>   0.1   0.1\n",
      "2      2   0.2  <NA>\n",
      "3      3  <NA>  <NA>\n",
      "4      4   0.4   0.4\n",
      "5      5   0.5   0.5\n",
      "6      6   0.6  <NA>\n",
      "7      7   0.7   0.7\n",
      "8      8   0.8   0.8\n",
      "9   <NA>   0.9   0.9\n",
      "10    10   1.0   1.0\n"
     ]
    }
   ],
   "source": [
    "#Working on missing data\n",
    "df = cd.DataFrame({'a': [0, None, 2, 3, 4, 5, 6, 7, 8, None, 10],\n",
    "                     'b': [0.0, 0.1, 0.2, None, 0.4, 0.5, 0.6, 0.7, 0.8, 0.9, 1.0], \n",
    "                     'c': [0.0, 0.1, None, None, 0.4, 0.5, None, 0.7, 0.8, 0.9, 1.0]})\n",
    "print(df)"
   ]
  },
  {
   "cell_type": "code",
   "execution_count": 87,
   "id": "6d394041-549a-440c-9557-e73c4a8045d2",
   "metadata": {},
   "outputs": [],
   "source": [
    "#fillna and replace are working the same as pandas\n",
    "df.fillna(-1,inplace=True)"
   ]
  },
  {
   "cell_type": "code",
   "execution_count": 88,
   "id": "ff13c868-5189-4f30-94d8-050440ea4b5a",
   "metadata": {},
   "outputs": [
    {
     "data": {
      "text/html": [
       "<div>\n",
       "<style scoped>\n",
       "    .dataframe tbody tr th:only-of-type {\n",
       "        vertical-align: middle;\n",
       "    }\n",
       "\n",
       "    .dataframe tbody tr th {\n",
       "        vertical-align: top;\n",
       "    }\n",
       "\n",
       "    .dataframe thead th {\n",
       "        text-align: right;\n",
       "    }\n",
       "</style>\n",
       "<table border=\"1\" class=\"dataframe\">\n",
       "  <thead>\n",
       "    <tr style=\"text-align: right;\">\n",
       "      <th></th>\n",
       "      <th>a</th>\n",
       "      <th>b</th>\n",
       "      <th>c</th>\n",
       "    </tr>\n",
       "  </thead>\n",
       "  <tbody>\n",
       "    <tr>\n",
       "      <th>0</th>\n",
       "      <td>0</td>\n",
       "      <td>0.0</td>\n",
       "      <td>0.0</td>\n",
       "    </tr>\n",
       "    <tr>\n",
       "      <th>1</th>\n",
       "      <td>-1</td>\n",
       "      <td>0.1</td>\n",
       "      <td>0.1</td>\n",
       "    </tr>\n",
       "    <tr>\n",
       "      <th>2</th>\n",
       "      <td>2</td>\n",
       "      <td>0.2</td>\n",
       "      <td>-1.0</td>\n",
       "    </tr>\n",
       "    <tr>\n",
       "      <th>3</th>\n",
       "      <td>3</td>\n",
       "      <td>-1.0</td>\n",
       "      <td>-1.0</td>\n",
       "    </tr>\n",
       "    <tr>\n",
       "      <th>4</th>\n",
       "      <td>4</td>\n",
       "      <td>0.4</td>\n",
       "      <td>0.4</td>\n",
       "    </tr>\n",
       "    <tr>\n",
       "      <th>9</th>\n",
       "      <td>-1</td>\n",
       "      <td>0.9</td>\n",
       "      <td>0.9</td>\n",
       "    </tr>\n",
       "  </tbody>\n",
       "</table>\n",
       "</div>"
      ],
      "text/plain": [
       "   a    b    c\n",
       "0  0  0.0  0.0\n",
       "1 -1  0.1  0.1\n",
       "2  2  0.2 -1.0\n",
       "3  3 -1.0 -1.0\n",
       "4  4  0.4  0.4\n",
       "9 -1  0.9  0.9"
      ]
     },
     "execution_count": 88,
     "metadata": {},
     "output_type": "execute_result"
    }
   ],
   "source": [
    "mask = df['a'] < 5\n",
    "df[mask]"
   ]
  },
  {
   "cell_type": "code",
   "execution_count": 90,
   "id": "66cb6d12-264f-40f2-ba16-e89f9206c510",
   "metadata": {},
   "outputs": [
    {
     "data": {
      "text/html": [
       "<div>\n",
       "<style scoped>\n",
       "    .dataframe tbody tr th:only-of-type {\n",
       "        vertical-align: middle;\n",
       "    }\n",
       "\n",
       "    .dataframe tbody tr th {\n",
       "        vertical-align: top;\n",
       "    }\n",
       "\n",
       "    .dataframe thead th {\n",
       "        text-align: right;\n",
       "    }\n",
       "</style>\n",
       "<table border=\"1\" class=\"dataframe\">\n",
       "  <thead>\n",
       "    <tr style=\"text-align: right;\">\n",
       "      <th></th>\n",
       "      <th>a</th>\n",
       "      <th>b</th>\n",
       "      <th>c</th>\n",
       "    </tr>\n",
       "  </thead>\n",
       "  <tbody>\n",
       "    <tr>\n",
       "      <th>10</th>\n",
       "      <td>10</td>\n",
       "      <td>1.0</td>\n",
       "      <td>1.0</td>\n",
       "    </tr>\n",
       "    <tr>\n",
       "      <th>9</th>\n",
       "      <td>-1</td>\n",
       "      <td>0.9</td>\n",
       "      <td>0.9</td>\n",
       "    </tr>\n",
       "    <tr>\n",
       "      <th>8</th>\n",
       "      <td>8</td>\n",
       "      <td>0.8</td>\n",
       "      <td>0.8</td>\n",
       "    </tr>\n",
       "    <tr>\n",
       "      <th>7</th>\n",
       "      <td>7</td>\n",
       "      <td>0.7</td>\n",
       "      <td>0.7</td>\n",
       "    </tr>\n",
       "    <tr>\n",
       "      <th>5</th>\n",
       "      <td>5</td>\n",
       "      <td>0.5</td>\n",
       "      <td>0.5</td>\n",
       "    </tr>\n",
       "    <tr>\n",
       "      <th>4</th>\n",
       "      <td>4</td>\n",
       "      <td>0.4</td>\n",
       "      <td>0.4</td>\n",
       "    </tr>\n",
       "    <tr>\n",
       "      <th>1</th>\n",
       "      <td>-1</td>\n",
       "      <td>0.1</td>\n",
       "      <td>0.1</td>\n",
       "    </tr>\n",
       "    <tr>\n",
       "      <th>0</th>\n",
       "      <td>0</td>\n",
       "      <td>0.0</td>\n",
       "      <td>0.0</td>\n",
       "    </tr>\n",
       "    <tr>\n",
       "      <th>2</th>\n",
       "      <td>2</td>\n",
       "      <td>0.2</td>\n",
       "      <td>-1.0</td>\n",
       "    </tr>\n",
       "    <tr>\n",
       "      <th>3</th>\n",
       "      <td>3</td>\n",
       "      <td>-1.0</td>\n",
       "      <td>-1.0</td>\n",
       "    </tr>\n",
       "    <tr>\n",
       "      <th>6</th>\n",
       "      <td>6</td>\n",
       "      <td>0.6</td>\n",
       "      <td>-1.0</td>\n",
       "    </tr>\n",
       "  </tbody>\n",
       "</table>\n",
       "</div>"
      ],
      "text/plain": [
       "     a    b    c\n",
       "10  10  1.0  1.0\n",
       "9   -1  0.9  0.9\n",
       "8    8  0.8  0.8\n",
       "7    7  0.7  0.7\n",
       "5    5  0.5  0.5\n",
       "4    4  0.4  0.4\n",
       "1   -1  0.1  0.1\n",
       "0    0  0.0  0.0\n",
       "2    2  0.2 -1.0\n",
       "3    3 -1.0 -1.0\n",
       "6    6  0.6 -1.0"
      ]
     },
     "execution_count": 90,
     "metadata": {},
     "output_type": "execute_result"
    }
   ],
   "source": [
    "#Ascending false is descending\n",
    "df.sort_values('c',ascending=False)"
   ]
  },
  {
   "cell_type": "code",
   "execution_count": 92,
   "id": "e1ec5b25-f793-44e0-a2b3-e03cd48ccc18",
   "metadata": {},
   "outputs": [],
   "source": [
    "df = cd.DataFrame({'a': np.repeat([0, 1, 2, 3], 25).astype(np.int32), \n",
    "                     'b': np.random.randint(2, size=100).astype(np.int32), \n",
    "                     'c': np.arange(0, 100).astype(np.int32), \n",
    "                     'd': np.arange(100, 0, -1).astype(np.int32)})"
   ]
  },
  {
   "cell_type": "code",
   "execution_count": 93,
   "id": "712c1c4b-6ebc-4bd2-b30f-3078d910b280",
   "metadata": {},
   "outputs": [
    {
     "data": {
      "text/plain": [
       "a     150\n",
       "b      40\n",
       "c    4950\n",
       "d    5050\n",
       "dtype: int64"
      ]
     },
     "execution_count": 93,
     "metadata": {},
     "output_type": "execute_result"
    }
   ],
   "source": [
    "df.sum()"
   ]
  },
  {
   "cell_type": "code",
   "execution_count": 94,
   "id": "204cdb5d-6ea2-4d83-8793-f7defb5e87b5",
   "metadata": {},
   "outputs": [],
   "source": [
    "def add_ten(x):\n",
    "    return x + 5"
   ]
  },
  {
   "cell_type": "code",
   "execution_count": 95,
   "id": "239cdfae-2585-4c33-b53f-6c5abc02c2c0",
   "metadata": {},
   "outputs": [],
   "source": [
    "df['cg'] = df['c'].apply(add_ten)"
   ]
  },
  {
   "cell_type": "code",
   "execution_count": 97,
   "id": "1e1808c6-990c-49fa-82b3-20d1d9e353e8",
   "metadata": {},
   "outputs": [
    {
     "data": {
      "text/html": [
       "<div>\n",
       "<style scoped>\n",
       "    .dataframe tbody tr th:only-of-type {\n",
       "        vertical-align: middle;\n",
       "    }\n",
       "\n",
       "    .dataframe tbody tr th {\n",
       "        vertical-align: top;\n",
       "    }\n",
       "\n",
       "    .dataframe thead th {\n",
       "        text-align: right;\n",
       "    }\n",
       "</style>\n",
       "<table border=\"1\" class=\"dataframe\">\n",
       "  <thead>\n",
       "    <tr style=\"text-align: right;\">\n",
       "      <th></th>\n",
       "      <th>a</th>\n",
       "      <th>b</th>\n",
       "      <th>c</th>\n",
       "      <th>d</th>\n",
       "      <th>cg</th>\n",
       "    </tr>\n",
       "  </thead>\n",
       "  <tbody>\n",
       "    <tr>\n",
       "      <th>0</th>\n",
       "      <td>0</td>\n",
       "      <td>0</td>\n",
       "      <td>0</td>\n",
       "      <td>100</td>\n",
       "      <td>5</td>\n",
       "    </tr>\n",
       "    <tr>\n",
       "      <th>1</th>\n",
       "      <td>0</td>\n",
       "      <td>0</td>\n",
       "      <td>1</td>\n",
       "      <td>99</td>\n",
       "      <td>6</td>\n",
       "    </tr>\n",
       "  </tbody>\n",
       "</table>\n",
       "</div>"
      ],
      "text/plain": [
       "   a  b  c    d  cg\n",
       "0  0  0  0  100   5\n",
       "1  0  0  1   99   6"
      ]
     },
     "execution_count": 97,
     "metadata": {},
     "output_type": "execute_result"
    }
   ],
   "source": [
    "df.head(2)"
   ]
  },
  {
   "cell_type": "code",
   "execution_count": 103,
   "id": "df7e9f75-0901-4691-b384-773443619fa8",
   "metadata": {},
   "outputs": [],
   "source": [
    "df1 = cd.DataFrame({'a': np.repeat([0, 1, 2, 3], 25).astype(np.int32), \n",
    "                      'b': np.random.randint(2, size=100).astype(np.int32), \n",
    "                      'c': np.arange(0, 100).astype(np.int32), \n",
    "                      'd': np.arange(100, 0, -1).astype(np.int32)})\n",
    "df2 = cd.DataFrame({'e': np.repeat([0, 1, 2, 3], 25).astype(np.int32), \n",
    "                      'f': np.random.randint(2, size=100).astype(np.int32), \n",
    "                      'i': np.arange(0, 100).astype(np.int32), \n",
    "                      't': np.arange(100, 0, -1).astype(np.int32)})\n",
    "#The col names have to be different"
   ]
  },
  {
   "cell_type": "code",
   "execution_count": 101,
   "id": "95ff6e38-e3d7-46b3-8fb4-341406bcebbd",
   "metadata": {},
   "outputs": [
    {
     "name": "stdout",
     "output_type": "stream",
     "text": [
      "   a  b  c    d\n",
      "0  0  1  0  100\n",
      "1  0  1  1   99\n",
      "2  0  0  2   98\n",
      "3  0  0  3   97\n",
      "4  0  1  4   96\n"
     ]
    },
    {
     "data": {
      "text/plain": [
       "(200, 4)"
      ]
     },
     "execution_count": 101,
     "metadata": {},
     "output_type": "execute_result"
    }
   ],
   "source": [
    "condf = cd.concat([df1,df2],axis=0)\n",
    "print(condf.head(5))\n",
    "condf.shape"
   ]
  },
  {
   "cell_type": "code",
   "execution_count": 105,
   "id": "4072aa8f-3d52-48d4-a9a8-1a84e06dd522",
   "metadata": {},
   "outputs": [
    {
     "name": "stdout",
     "output_type": "stream",
     "text": [
      "   a  b  c    d  e  f  i    t\n",
      "0  0  0  0  100  0  1  0  100\n",
      "1  0  1  1   99  0  1  1   99\n",
      "2  0  1  2   98  0  0  2   98\n",
      "3  0  1  3   97  0  1  3   97\n",
      "4  0  0  4   96  0  0  4   96\n"
     ]
    },
    {
     "data": {
      "text/plain": [
       "(100, 8)"
      ]
     },
     "execution_count": 105,
     "metadata": {},
     "output_type": "execute_result"
    }
   ],
   "source": [
    "cond_col = cd.concat([df1,df2],axis=1)\n",
    "print(cond_col.head(5))\n",
    "#name of teh cols have to be different\n",
    "cond_col.shape"
   ]
  },
  {
   "cell_type": "code",
   "execution_count": 107,
   "id": "80164f1a-b44c-4b1b-bc5f-3730d4ea13ef",
   "metadata": {},
   "outputs": [],
   "source": [
    "df1 = cd.DataFrame({'a': np.repeat([0, 1, 2, 3], 25).astype(np.int32), \n",
    "                      'b': np.random.randint(2, size=100).astype(np.int32), \n",
    "                      'c': np.arange(0, 100).astype(np.int32), \n",
    "                      'd': np.arange(100, 0, -1).astype(np.int32)})\n",
    "\n",
    "df2 = cd.DataFrame({'a': np.repeat([0, 1, 2, 3], 25).astype(np.int32), \n",
    "                      'b': np.random.randint(2, size=100).astype(np.int32), \n",
    "                      'e': np.arange(0, 100).astype(np.int32), \n",
    "                      'f': np.arange(100, 0, -1).astype(np.int32)})"
   ]
  },
  {
   "cell_type": "code",
   "execution_count": 108,
   "id": "64596d3c-82ad-4b4b-a7f4-f2d7903aa97f",
   "metadata": {},
   "outputs": [
    {
     "name": "stdout",
     "output_type": "stream",
     "text": [
      "   a  b   c   d   e   f\n",
      "0  1  1  32  68  32  68\n",
      "1  1  1  32  68  37  63\n",
      "2  1  1  32  68  33  67\n",
      "3  1  1  32  68  38  62\n",
      "4  1  0  33  67  34  66\n"
     ]
    }
   ],
   "source": [
    "df = df1.merge(df2)\n",
    "print(df.head())"
   ]
  },
  {
   "cell_type": "code",
   "execution_count": 109,
   "id": "3367cf1b-3871-43a7-91a8-39954a745d19",
   "metadata": {},
   "outputs": [
    {
     "name": "stdout",
     "output_type": "stream",
     "text": [
      "   a  b_x  c    d  b_y  e    f\n",
      "0  0    0  0  100    0  0  100\n",
      "1  0    0  0  100    0  2   98\n",
      "2  0    0  0  100    0  1   99\n",
      "3  0    0  0  100    0  3   97\n",
      "4  0    1  1   99    0  0  100\n"
     ]
    }
   ],
   "source": [
    "df = df1.merge(df2, on=['a'])\n",
    "print(df.head())"
   ]
  },
  {
   "cell_type": "code",
   "execution_count": 110,
   "id": "03fa50d6-3608-412d-8f9e-03bbc86e92ce",
   "metadata": {},
   "outputs": [
    {
     "data": {
      "text/plain": [
       "<cudf.core.groupby.groupby.DataFrameGroupBy at 0x7ff3001dd360>"
      ]
     },
     "execution_count": 110,
     "metadata": {},
     "output_type": "execute_result"
    }
   ],
   "source": [
    "grp_df = df.groupby('a')\n",
    "grp_df"
   ]
  },
  {
   "cell_type": "code",
   "execution_count": 111,
   "id": "9092917a-d55c-4b7d-a8d9-cb61d669e73b",
   "metadata": {},
   "outputs": [
    {
     "data": {
      "text/html": [
       "<div>\n",
       "<style scoped>\n",
       "    .dataframe tbody tr th:only-of-type {\n",
       "        vertical-align: middle;\n",
       "    }\n",
       "\n",
       "    .dataframe tbody tr th {\n",
       "        vertical-align: top;\n",
       "    }\n",
       "\n",
       "    .dataframe thead th {\n",
       "        text-align: right;\n",
       "    }\n",
       "</style>\n",
       "<table border=\"1\" class=\"dataframe\">\n",
       "  <thead>\n",
       "    <tr style=\"text-align: right;\">\n",
       "      <th></th>\n",
       "      <th>b_x</th>\n",
       "      <th>c</th>\n",
       "      <th>d</th>\n",
       "      <th>b_y</th>\n",
       "      <th>e</th>\n",
       "      <th>f</th>\n",
       "    </tr>\n",
       "    <tr>\n",
       "      <th>a</th>\n",
       "      <th></th>\n",
       "      <th></th>\n",
       "      <th></th>\n",
       "      <th></th>\n",
       "      <th></th>\n",
       "      <th></th>\n",
       "    </tr>\n",
       "  </thead>\n",
       "  <tbody>\n",
       "    <tr>\n",
       "      <th>3</th>\n",
       "      <td>225</td>\n",
       "      <td>54375</td>\n",
       "      <td>8125</td>\n",
       "      <td>250</td>\n",
       "      <td>54375</td>\n",
       "      <td>8125</td>\n",
       "    </tr>\n",
       "    <tr>\n",
       "      <th>1</th>\n",
       "      <td>300</td>\n",
       "      <td>23125</td>\n",
       "      <td>39375</td>\n",
       "      <td>375</td>\n",
       "      <td>23125</td>\n",
       "      <td>39375</td>\n",
       "    </tr>\n",
       "    <tr>\n",
       "      <th>2</th>\n",
       "      <td>275</td>\n",
       "      <td>38750</td>\n",
       "      <td>23750</td>\n",
       "      <td>300</td>\n",
       "      <td>38750</td>\n",
       "      <td>23750</td>\n",
       "    </tr>\n",
       "    <tr>\n",
       "      <th>0</th>\n",
       "      <td>250</td>\n",
       "      <td>7500</td>\n",
       "      <td>55000</td>\n",
       "      <td>275</td>\n",
       "      <td>7500</td>\n",
       "      <td>55000</td>\n",
       "    </tr>\n",
       "  </tbody>\n",
       "</table>\n",
       "</div>"
      ],
      "text/plain": [
       "   b_x      c      d  b_y      e      f\n",
       "a                                      \n",
       "3  225  54375   8125  250  54375   8125\n",
       "1  300  23125  39375  375  23125  39375\n",
       "2  275  38750  23750  300  38750  23750\n",
       "0  250   7500  55000  275   7500  55000"
      ]
     },
     "execution_count": 111,
     "metadata": {},
     "output_type": "execute_result"
    }
   ],
   "source": [
    "grp_df.sum()"
   ]
  },
  {
   "cell_type": "code",
   "execution_count": 113,
   "id": "7d754ebe-9548-4b51-a0e2-bbb4a25f951c",
   "metadata": {},
   "outputs": [
    {
     "data": {
      "text/html": [
       "<div>\n",
       "<style scoped>\n",
       "    .dataframe tbody tr th:only-of-type {\n",
       "        vertical-align: middle;\n",
       "    }\n",
       "\n",
       "    .dataframe tbody tr th {\n",
       "        vertical-align: top;\n",
       "    }\n",
       "\n",
       "    .dataframe thead th {\n",
       "        text-align: right;\n",
       "    }\n",
       "</style>\n",
       "<table border=\"1\" class=\"dataframe\">\n",
       "  <thead>\n",
       "    <tr style=\"text-align: right;\">\n",
       "      <th></th>\n",
       "      <th></th>\n",
       "      <th>b_x</th>\n",
       "      <th>d</th>\n",
       "      <th>b_y</th>\n",
       "      <th>e</th>\n",
       "      <th>f</th>\n",
       "    </tr>\n",
       "    <tr>\n",
       "      <th>a</th>\n",
       "      <th>c</th>\n",
       "      <th></th>\n",
       "      <th></th>\n",
       "      <th></th>\n",
       "      <th></th>\n",
       "      <th></th>\n",
       "    </tr>\n",
       "  </thead>\n",
       "  <tbody>\n",
       "    <tr>\n",
       "      <th>2</th>\n",
       "      <th>50</th>\n",
       "      <td>25</td>\n",
       "      <td>1250</td>\n",
       "      <td>12</td>\n",
       "      <td>1550</td>\n",
       "      <td>950</td>\n",
       "    </tr>\n",
       "    <tr>\n",
       "      <th>1</th>\n",
       "      <th>43</th>\n",
       "      <td>0</td>\n",
       "      <td>1425</td>\n",
       "      <td>15</td>\n",
       "      <td>925</td>\n",
       "      <td>1575</td>\n",
       "    </tr>\n",
       "    <tr>\n",
       "      <th>0</th>\n",
       "      <th>2</th>\n",
       "      <td>0</td>\n",
       "      <td>2450</td>\n",
       "      <td>11</td>\n",
       "      <td>300</td>\n",
       "      <td>2200</td>\n",
       "    </tr>\n",
       "    <tr>\n",
       "      <th>3</th>\n",
       "      <th>88</th>\n",
       "      <td>0</td>\n",
       "      <td>300</td>\n",
       "      <td>10</td>\n",
       "      <td>2175</td>\n",
       "      <td>325</td>\n",
       "    </tr>\n",
       "    <tr>\n",
       "      <th>2</th>\n",
       "      <th>73</th>\n",
       "      <td>25</td>\n",
       "      <td>675</td>\n",
       "      <td>12</td>\n",
       "      <td>1550</td>\n",
       "      <td>950</td>\n",
       "    </tr>\n",
       "    <tr>\n",
       "      <th>...</th>\n",
       "      <th>...</th>\n",
       "      <td>...</td>\n",
       "      <td>...</td>\n",
       "      <td>...</td>\n",
       "      <td>...</td>\n",
       "      <td>...</td>\n",
       "    </tr>\n",
       "    <tr>\n",
       "      <th>1</th>\n",
       "      <th>29</th>\n",
       "      <td>0</td>\n",
       "      <td>1775</td>\n",
       "      <td>15</td>\n",
       "      <td>925</td>\n",
       "      <td>1575</td>\n",
       "    </tr>\n",
       "    <tr>\n",
       "      <th>3</th>\n",
       "      <th>77</th>\n",
       "      <td>0</td>\n",
       "      <td>575</td>\n",
       "      <td>10</td>\n",
       "      <td>2175</td>\n",
       "      <td>325</td>\n",
       "    </tr>\n",
       "    <tr>\n",
       "      <th rowspan=\"2\" valign=\"top\">1</th>\n",
       "      <th>33</th>\n",
       "      <td>0</td>\n",
       "      <td>1675</td>\n",
       "      <td>15</td>\n",
       "      <td>925</td>\n",
       "      <td>1575</td>\n",
       "    </tr>\n",
       "    <tr>\n",
       "      <th>28</th>\n",
       "      <td>0</td>\n",
       "      <td>1800</td>\n",
       "      <td>15</td>\n",
       "      <td>925</td>\n",
       "      <td>1575</td>\n",
       "    </tr>\n",
       "    <tr>\n",
       "      <th>0</th>\n",
       "      <th>13</th>\n",
       "      <td>0</td>\n",
       "      <td>2175</td>\n",
       "      <td>11</td>\n",
       "      <td>300</td>\n",
       "      <td>2200</td>\n",
       "    </tr>\n",
       "  </tbody>\n",
       "</table>\n",
       "<p>100 rows × 5 columns</p>\n",
       "</div>"
      ],
      "text/plain": [
       "      b_x     d  b_y     e     f\n",
       "a c                             \n",
       "2 50   25  1250   12  1550   950\n",
       "1 43    0  1425   15   925  1575\n",
       "0 2     0  2450   11   300  2200\n",
       "3 88    0   300   10  2175   325\n",
       "2 73   25   675   12  1550   950\n",
       "...   ...   ...  ...   ...   ...\n",
       "1 29    0  1775   15   925  1575\n",
       "3 77    0   575   10  2175   325\n",
       "1 33    0  1675   15   925  1575\n",
       "  28    0  1800   15   925  1575\n",
       "0 13    0  2175   11   300  2200\n",
       "\n",
       "[100 rows x 5 columns]"
      ]
     },
     "execution_count": 113,
     "metadata": {},
     "output_type": "execute_result"
    }
   ],
   "source": [
    "df.groupby(['a','c']).sum().to_pandas()"
   ]
  },
  {
   "cell_type": "code",
   "execution_count": 118,
   "id": "3681993b-51e7-4cef-bb05-e26a74e029ba",
   "metadata": {},
   "outputs": [
    {
     "name": "stdout",
     "output_type": "stream",
     "text": [
      "   a  b_x  c    d  b_y    f  ...  e__94  e__95  e__96  e__97  e__98  e__99\n",
      "0  0    0  0  100    0  100  ...      0      0      0      0      0      0\n",
      "1  0    0  0  100    0   98  ...      0      0      0      0      0      0\n",
      "2  0    0  0  100    0   99  ...      0      0      0      0      0      0\n",
      "3  0    0  0  100    0   97  ...      0      0      0      0      0      0\n",
      "4  0    1  1   99    0  100  ...      0      0      0      0      0      0\n",
      "\n",
      "[5 rows x 106 columns]\n",
      "      a  b_x   c   d  b_y   f  ...  e__94  e__95  e__96  e__97  e__98  e__99\n",
      "2495  1    1  49  51    0  71  ...      0      0      0      0      0      0\n",
      "2496  1    1  49  51    1  72  ...      0      0      0      0      0      0\n",
      "2497  1    1  49  51    1  70  ...      0      0      0      0      0      0\n",
      "2498  1    0  48  52    1  69  ...      0      0      0      0      0      0\n",
      "2499  1    1  49  51    1  69  ...      0      0      0      0      0      0\n",
      "\n",
      "[5 rows x 106 columns]\n"
     ]
    }
   ],
   "source": [
    "result = cd.get_dummies(df, \n",
    "                          columns='e', \n",
    "                          prefix='e_', \n",
    "                          cats=[1,2,5,6])\n",
    "print(result.head())\n",
    "print(result.tail())"
   ]
  }
 ],
 "metadata": {
  "kernelspec": {
   "display_name": "Python 3 (ipykernel)",
   "language": "python",
   "name": "python3"
  },
  "language_info": {
   "codemirror_mode": {
    "name": "ipython",
    "version": 3
   },
   "file_extension": ".py",
   "mimetype": "text/x-python",
   "name": "python",
   "nbconvert_exporter": "python",
   "pygments_lexer": "ipython3",
   "version": "3.10.12"
  }
 },
 "nbformat": 4,
 "nbformat_minor": 5
}
