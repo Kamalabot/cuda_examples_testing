{
 "cells": [
  {
   "cell_type": "code",
   "execution_count": 3,
   "id": "f926e3f4-dc52-436d-b6e6-4c6ff51e8db4",
   "metadata": {},
   "outputs": [
    {
     "data": {
      "text/plain": [
       "dtype('int64')"
      ]
     },
     "execution_count": 3,
     "metadata": {},
     "output_type": "execute_result"
    }
   ],
   "source": [
    "import cupy as cp\n",
    "x_gpu = cp.array([90,75,80])\n",
    "x_gpu.dtype"
   ]
  },
  {
   "cell_type": "code",
   "execution_count": 5,
   "id": "b286dece-4895-493f-89e6-5c5e3138d5ec",
   "metadata": {},
   "outputs": [],
   "source": [
    "l1_gpu = cp.linalg.norm(x_gpu)"
   ]
  },
  {
   "cell_type": "code",
   "execution_count": 7,
   "id": "8d1dbfa2-6819-4063-99cc-15461cb5e441",
   "metadata": {},
   "outputs": [
    {
     "data": {
      "text/plain": [
       "0"
      ]
     },
     "execution_count": 7,
     "metadata": {},
     "output_type": "execute_result"
    }
   ],
   "source": [
    "cp.cuda.get_device_id()"
   ]
  },
  {
   "cell_type": "code",
   "execution_count": 10,
   "id": "e5450edd-4c07-4289-9e6f-0033c51a47d5",
   "metadata": {},
   "outputs": [
    {
     "data": {
      "text/plain": [
       "array([90, 75, 80])"
      ]
     },
     "execution_count": 10,
     "metadata": {},
     "output_type": "execute_result"
    }
   ],
   "source": [
    "cp.asnumpy(x_gpu)"
   ]
  },
  {
   "cell_type": "code",
   "execution_count": 11,
   "id": "4c4d658b-058a-45a7-bb07-d1ab3999d634",
   "metadata": {},
   "outputs": [
    {
     "data": {
      "text/plain": [
       "array([90, 75, 80])"
      ]
     },
     "execution_count": 11,
     "metadata": {},
     "output_type": "execute_result"
    }
   ],
   "source": [
    "x_gpu.get()"
   ]
  },
  {
   "cell_type": "code",
   "execution_count": null,
   "id": "ca170f69-0779-48ab-80d6-8246371d2c57",
   "metadata": {},
   "outputs": [],
   "source": [
    "import numpy as np\n",
    "xC = np.array([5,79,80])\n",
    "yK = np.array([2,8,57])\n",
    "xC+yK"
   ]
  },
  {
   "cell_type": "code",
   "execution_count": 15,
   "id": "e1fdc984-c517-4a48-89fa-6c68e8afacea",
   "metadata": {},
   "outputs": [
    {
     "ename": "TypeError",
     "evalue": "Unsupported type <class 'numpy.ndarray'>",
     "output_type": "error",
     "traceback": [
      "\u001b[0;31m---------------------------------------------------------------------------\u001b[0m",
      "\u001b[0;31mTypeError\u001b[0m                                 Traceback (most recent call last)",
      "Cell \u001b[0;32mIn[15], line 2\u001b[0m\n\u001b[1;32m      1\u001b[0m xG \u001b[38;5;241m=\u001b[39m cp\u001b[38;5;241m.\u001b[39masarray(xC)\n\u001b[0;32m----> 2\u001b[0m \u001b[43mxG\u001b[49m\u001b[43m \u001b[49m\u001b[38;5;241;43m+\u001b[39;49m\u001b[43m \u001b[49m\u001b[43myK\u001b[49m\n",
      "File \u001b[0;32mcupy/_core/core.pyx:1269\u001b[0m, in \u001b[0;36mcupy._core.core._ndarray_base.__add__\u001b[0;34m()\u001b[0m\n",
      "File \u001b[0;32mcupy/_core/core.pyx:1697\u001b[0m, in \u001b[0;36mcupy._core.core._ndarray_base.__array_ufunc__\u001b[0;34m()\u001b[0m\n",
      "File \u001b[0;32mcupy/_core/_kernel.pyx:1283\u001b[0m, in \u001b[0;36mcupy._core._kernel.ufunc.__call__\u001b[0;34m()\u001b[0m\n",
      "File \u001b[0;32mcupy/_core/_kernel.pyx:159\u001b[0m, in \u001b[0;36mcupy._core._kernel._preprocess_args\u001b[0;34m()\u001b[0m\n",
      "File \u001b[0;32mcupy/_core/_kernel.pyx:145\u001b[0m, in \u001b[0;36mcupy._core._kernel._preprocess_arg\u001b[0;34m()\u001b[0m\n",
      "\u001b[0;31mTypeError\u001b[0m: Unsupported type <class 'numpy.ndarray'>"
     ]
    }
   ],
   "source": [
    "xG = cp.asarray(xC)\n",
    "xG + yK"
   ]
  },
  {
   "cell_type": "markdown",
   "id": "2c04a3da-69b8-46f4-b52c-b51075971dc5",
   "metadata": {},
   "source": [
    "Three types of CUDA kernels: elementwise kernels, reduction kernels and raw kernels. \n",
    "The details are not covered in this notebook. \n",
    "\n",
    "We will be writing UDFs on the following data structures:\n",
    "\n",
    "- Series\n",
    "- DataFrame\n",
    "- Rolling Windows Series\n",
    "- Groupby DataFrames\n",
    "- CuPy NDArrays\n",
    "- Numba DeviceNDArrays"
   ]
  },
  {
   "cell_type": "markdown",
   "id": "e677d328-32fe-44e1-84ee-05307d76932f",
   "metadata": {},
   "source": [
    "Exploring CUDA and GPU architecture in-depth is out of scope for this guide. At a high level:\n",
    "\n",
    "Compute is spread across multiple \"blocks\", which have access to both global memory and their own block local memory\n",
    "Within each block, many \"threads\" operate independently and simultaneously access their block-specific shared memory with low latency"
   ]
  },
  {
   "cell_type": "code",
   "execution_count": 16,
   "id": "38fc62bb-25d6-4438-9d80-e82969b19f93",
   "metadata": {},
   "outputs": [
    {
     "data": {
      "text/html": [
       "<div>\n",
       "<style scoped>\n",
       "    .dataframe tbody tr th:only-of-type {\n",
       "        vertical-align: middle;\n",
       "    }\n",
       "\n",
       "    .dataframe tbody tr th {\n",
       "        vertical-align: top;\n",
       "    }\n",
       "\n",
       "    .dataframe thead th {\n",
       "        text-align: right;\n",
       "    }\n",
       "</style>\n",
       "<table border=\"1\" class=\"dataframe\">\n",
       "  <thead>\n",
       "    <tr style=\"text-align: right;\">\n",
       "      <th></th>\n",
       "      <th>a</th>\n",
       "      <th>b</th>\n",
       "      <th>c</th>\n",
       "    </tr>\n",
       "  </thead>\n",
       "  <tbody>\n",
       "    <tr>\n",
       "      <th>0</th>\n",
       "      <td>-0.691674</td>\n",
       "      <td>True</td>\n",
       "      <td>Dan</td>\n",
       "    </tr>\n",
       "    <tr>\n",
       "      <th>1</th>\n",
       "      <td>0.480099</td>\n",
       "      <td>False</td>\n",
       "      <td>Bob</td>\n",
       "    </tr>\n",
       "    <tr>\n",
       "      <th>2</th>\n",
       "      <td>-0.473370</td>\n",
       "      <td>True</td>\n",
       "      <td>Xavier</td>\n",
       "    </tr>\n",
       "    <tr>\n",
       "      <th>3</th>\n",
       "      <td>0.067479</td>\n",
       "      <td>True</td>\n",
       "      <td>Alice</td>\n",
       "    </tr>\n",
       "    <tr>\n",
       "      <th>4</th>\n",
       "      <td>-0.970850</td>\n",
       "      <td>False</td>\n",
       "      <td>Sarah</td>\n",
       "    </tr>\n",
       "  </tbody>\n",
       "</table>\n",
       "</div>"
      ],
      "text/plain": [
       "          a      b       c\n",
       "0 -0.691674   True     Dan\n",
       "1  0.480099  False     Bob\n",
       "2 -0.473370   True  Xavier\n",
       "3  0.067479   True   Alice\n",
       "4 -0.970850  False   Sarah"
      ]
     },
     "execution_count": 16,
     "metadata": {},
     "output_type": "execute_result"
    }
   ],
   "source": [
    "import numpy as np\n",
    "\n",
    "import cudf\n",
    "from cudf.datasets import randomdata \n",
    "\n",
    "df = randomdata(nrows=10, dtypes={'a':float, \n",
    "                                  'b':bool, \n",
    "                                  'c':str}, seed=12)\n",
    "df.head()"
   ]
  },
  {
   "cell_type": "code",
   "execution_count": 19,
   "id": "f401aa7c-2e7c-4600-b28d-a626a5d4a690",
   "metadata": {},
   "outputs": [],
   "source": [
    "from numba import cuda"
   ]
  },
  {
   "cell_type": "code",
   "execution_count": 17,
   "id": "968f5947-2e2a-47ef-b482-384ed991e867",
   "metadata": {},
   "outputs": [],
   "source": [
    "def udf(x):\n",
    "    if x > 0:\n",
    "        return x + 5\n",
    "    else:\n",
    "        return x - 5"
   ]
  },
  {
   "cell_type": "code",
   "execution_count": 21,
   "id": "4fde4a14-8bb6-48bc-9c7e-531849d7ee13",
   "metadata": {},
   "outputs": [
    {
     "data": {
      "text/html": [
       "<div>\n",
       "<style scoped>\n",
       "    .dataframe tbody tr th:only-of-type {\n",
       "        vertical-align: middle;\n",
       "    }\n",
       "\n",
       "    .dataframe tbody tr th {\n",
       "        vertical-align: top;\n",
       "    }\n",
       "\n",
       "    .dataframe thead th {\n",
       "        text-align: right;\n",
       "    }\n",
       "</style>\n",
       "<table border=\"1\" class=\"dataframe\">\n",
       "  <thead>\n",
       "    <tr style=\"text-align: right;\">\n",
       "      <th></th>\n",
       "      <th>a</th>\n",
       "    </tr>\n",
       "  </thead>\n",
       "  <tbody>\n",
       "    <tr>\n",
       "      <th>0</th>\n",
       "      <td>-5.691674</td>\n",
       "    </tr>\n",
       "    <tr>\n",
       "      <th>1</th>\n",
       "      <td>5.480099</td>\n",
       "    </tr>\n",
       "    <tr>\n",
       "      <th>2</th>\n",
       "      <td>-5.473370</td>\n",
       "    </tr>\n",
       "    <tr>\n",
       "      <th>3</th>\n",
       "      <td>5.067479</td>\n",
       "    </tr>\n",
       "    <tr>\n",
       "      <th>4</th>\n",
       "      <td>-5.970850</td>\n",
       "    </tr>\n",
       "    <tr>\n",
       "      <th>5</th>\n",
       "      <td>5.837494</td>\n",
       "    </tr>\n",
       "    <tr>\n",
       "      <th>6</th>\n",
       "      <td>5.801430</td>\n",
       "    </tr>\n",
       "    <tr>\n",
       "      <th>7</th>\n",
       "      <td>-5.933157</td>\n",
       "    </tr>\n",
       "    <tr>\n",
       "      <th>8</th>\n",
       "      <td>5.913899</td>\n",
       "    </tr>\n",
       "    <tr>\n",
       "      <th>9</th>\n",
       "      <td>-5.725581</td>\n",
       "    </tr>\n",
       "  </tbody>\n",
       "</table>\n",
       "</div>"
      ],
      "text/plain": [
       "          a\n",
       "0 -5.691674\n",
       "1  5.480099\n",
       "2 -5.473370\n",
       "3  5.067479\n",
       "4 -5.970850\n",
       "5  5.837494\n",
       "6  5.801430\n",
       "7 -5.933157\n",
       "8  5.913899\n",
       "9 -5.725581"
      ]
     },
     "execution_count": 21,
     "metadata": {},
     "output_type": "execute_result"
    }
   ],
   "source": [
    "#apply map works on entire dataframe\n",
    "df[['a']].applymap(udf)"
   ]
  },
  {
   "cell_type": "code",
   "execution_count": 26,
   "id": "8cae8eaf-2838-42aa-a507-e2bb215a99ee",
   "metadata": {},
   "outputs": [
    {
     "name": "stdout",
     "output_type": "stream",
     "text": [
      "failed as there is Boolean column ('user defined function compilation failed.',)\n"
     ]
    }
   ],
   "source": [
    "try:\n",
    "    df.applymap(udf)\n",
    "\n",
    "except Exception as e:\n",
    "    print('failed as there is Boolean column',e.args)"
   ]
  },
  {
   "cell_type": "code",
   "execution_count": 27,
   "id": "0056e5f1-d77b-401f-9d65-98a334463a42",
   "metadata": {},
   "outputs": [],
   "source": [
    "@cuda.jit\n",
    "def multiply(in_col, out_col, multiplier):\n",
    "    i = cuda.grid(1)\n",
    "    if i < in_col.size: # boundary guard\n",
    "        out_col[i] = in_col[i] * multiplier"
   ]
  },
  {
   "cell_type": "code",
   "execution_count": 28,
   "id": "3c03800f-0488-42d3-b929-557f9eddee65",
   "metadata": {},
   "outputs": [
    {
     "name": "stderr",
     "output_type": "stream",
     "text": [
      "/home/kamal/gitfolders/one-click-installers/installer_files/conda/envs/rapids-23.08/lib/python3.10/site-packages/numba/cuda/dispatcher.py:538: NumbaPerformanceWarning: Grid size 1 will likely result in GPU under-utilization due to low occupancy.\n",
      "  warn(NumbaPerformanceWarning(msg))\n"
     ]
    }
   ],
   "source": [
    "size = len(df['a'])\n",
    "\n",
    "df['e'] = 0.0\n",
    "\n",
    "multiply.forall(size)(df['a'], \n",
    "                      df['e'], \n",
    "                      10.0)"
   ]
  },
  {
   "cell_type": "code",
   "execution_count": 30,
   "id": "c14af891-484f-4819-9890-32cb4cbe8196",
   "metadata": {},
   "outputs": [
    {
     "data": {
      "text/html": [
       "<div>\n",
       "<style scoped>\n",
       "    .dataframe tbody tr th:only-of-type {\n",
       "        vertical-align: middle;\n",
       "    }\n",
       "\n",
       "    .dataframe tbody tr th {\n",
       "        vertical-align: top;\n",
       "    }\n",
       "\n",
       "    .dataframe thead th {\n",
       "        text-align: right;\n",
       "    }\n",
       "</style>\n",
       "<table border=\"1\" class=\"dataframe\">\n",
       "  <thead>\n",
       "    <tr style=\"text-align: right;\">\n",
       "      <th></th>\n",
       "      <th>a</th>\n",
       "      <th>b</th>\n",
       "      <th>c</th>\n",
       "      <th>e</th>\n",
       "    </tr>\n",
       "  </thead>\n",
       "  <tbody>\n",
       "    <tr>\n",
       "      <th>0</th>\n",
       "      <td>-0.691674</td>\n",
       "      <td>True</td>\n",
       "      <td>Dan</td>\n",
       "      <td>-6.916743</td>\n",
       "    </tr>\n",
       "    <tr>\n",
       "      <th>1</th>\n",
       "      <td>0.480099</td>\n",
       "      <td>False</td>\n",
       "      <td>Bob</td>\n",
       "      <td>4.800994</td>\n",
       "    </tr>\n",
       "  </tbody>\n",
       "</table>\n",
       "</div>"
      ],
      "text/plain": [
       "          a      b    c         e\n",
       "0 -0.691674   True  Dan -6.916743\n",
       "1  0.480099  False  Bob  4.800994"
      ]
     },
     "execution_count": 30,
     "metadata": {},
     "output_type": "execute_result"
    }
   ],
   "source": [
    "df.head(2)"
   ]
  },
  {
   "cell_type": "markdown",
   "id": "718b2c7a-2104-434a-8410-2c061767b7f8",
   "metadata": {},
   "source": [
    "We could apply a UDF on a DataFrame like we did above with forall. We'd need to write a kernel that expects multiple inputs, and pass multiple Series as arguments when we execute our kernel. \n",
    "\n",
    "Because this is fairly common and can be difficult to manage, cuDF provides two APIs to streamline this: apply_rows and apply_chunks. Below, we walk through an example of using apply_rows. apply_chunks works in a similar way, but also offers more control over low-level kernel behavior."
   ]
  },
  {
   "cell_type": "code",
   "execution_count": 31,
   "id": "3b4d65ab-6fcb-4517-9851-55eee3be9554",
   "metadata": {},
   "outputs": [],
   "source": [
    "def conditional_add(x, y, out):\n",
    "    for i, (a, e) in enumerate(zip(x, y)):\n",
    "        if a > 0:\n",
    "            out[i] = a + e\n",
    "        else:\n",
    "            out[i] = a"
   ]
  },
  {
   "cell_type": "code",
   "execution_count": 32,
   "id": "2a741537-f3d9-480e-9d56-02b226300789",
   "metadata": {},
   "outputs": [
    {
     "data": {
      "text/html": [
       "<div>\n",
       "<style scoped>\n",
       "    .dataframe tbody tr th:only-of-type {\n",
       "        vertical-align: middle;\n",
       "    }\n",
       "\n",
       "    .dataframe tbody tr th {\n",
       "        vertical-align: top;\n",
       "    }\n",
       "\n",
       "    .dataframe thead th {\n",
       "        text-align: right;\n",
       "    }\n",
       "</style>\n",
       "<table border=\"1\" class=\"dataframe\">\n",
       "  <thead>\n",
       "    <tr style=\"text-align: right;\">\n",
       "      <th></th>\n",
       "      <th>a</th>\n",
       "      <th>b</th>\n",
       "      <th>c</th>\n",
       "      <th>e</th>\n",
       "      <th>out</th>\n",
       "    </tr>\n",
       "  </thead>\n",
       "  <tbody>\n",
       "    <tr>\n",
       "      <th>0</th>\n",
       "      <td>-0.691674</td>\n",
       "      <td>True</td>\n",
       "      <td>Dan</td>\n",
       "      <td>-6.916743</td>\n",
       "      <td>-0.691674</td>\n",
       "    </tr>\n",
       "    <tr>\n",
       "      <th>1</th>\n",
       "      <td>0.480099</td>\n",
       "      <td>False</td>\n",
       "      <td>Bob</td>\n",
       "      <td>4.800994</td>\n",
       "      <td>5.281093</td>\n",
       "    </tr>\n",
       "    <tr>\n",
       "      <th>2</th>\n",
       "      <td>-0.473370</td>\n",
       "      <td>True</td>\n",
       "      <td>Xavier</td>\n",
       "      <td>-4.733700</td>\n",
       "      <td>-0.473370</td>\n",
       "    </tr>\n",
       "    <tr>\n",
       "      <th>3</th>\n",
       "      <td>0.067479</td>\n",
       "      <td>True</td>\n",
       "      <td>Alice</td>\n",
       "      <td>0.674788</td>\n",
       "      <td>0.742267</td>\n",
       "    </tr>\n",
       "    <tr>\n",
       "      <th>4</th>\n",
       "      <td>-0.970850</td>\n",
       "      <td>False</td>\n",
       "      <td>Sarah</td>\n",
       "      <td>-9.708501</td>\n",
       "      <td>-0.970850</td>\n",
       "    </tr>\n",
       "  </tbody>\n",
       "</table>\n",
       "</div>"
      ],
      "text/plain": [
       "          a      b       c         e       out\n",
       "0 -0.691674   True     Dan -6.916743 -0.691674\n",
       "1  0.480099  False     Bob  4.800994  5.281093\n",
       "2 -0.473370   True  Xavier -4.733700 -0.473370\n",
       "3  0.067479   True   Alice  0.674788  0.742267\n",
       "4 -0.970850  False   Sarah -9.708501 -0.970850"
      ]
     },
     "execution_count": 32,
     "metadata": {},
     "output_type": "execute_result"
    }
   ],
   "source": [
    "df = df.apply_rows(conditional_add, \n",
    "                   incols={'a':'x', 'e':'y'},\n",
    "                   outcols={'out': np.float64},\n",
    "                   kwargs={}\n",
    "                  )\n",
    "df.head()"
   ]
  },
  {
   "cell_type": "code",
   "execution_count": 33,
   "id": "77075834-61f2-4032-91d0-943aa538d6de",
   "metadata": {},
   "outputs": [
    {
     "data": {
      "text/plain": [
       "0    16.0\n",
       "1    25.0\n",
       "2    36.0\n",
       "3    49.0\n",
       "4    64.0\n",
       "5    81.0\n",
       "dtype: float64"
      ]
     },
     "execution_count": 33,
     "metadata": {},
     "output_type": "execute_result"
    }
   ],
   "source": [
    "ser = cudf.Series([16, 25, 36, 49, 64, 81], dtype='float64')\n",
    "ser"
   ]
  },
  {
   "cell_type": "code",
   "execution_count": 34,
   "id": "35472e5e-1abd-4733-b1c0-06d517489ef5",
   "metadata": {},
   "outputs": [
    {
     "data": {
      "text/plain": [
       "Rolling [window=3,min_periods=3,center=False]"
      ]
     },
     "execution_count": 34,
     "metadata": {},
     "output_type": "execute_result"
    }
   ],
   "source": [
    "rolling = ser.rolling(window=3, min_periods=3, center=False)\n",
    "rolling"
   ]
  },
  {
   "cell_type": "code",
   "execution_count": 35,
   "id": "88dda8e6-9575-414b-b5d2-cb149208d44f",
   "metadata": {},
   "outputs": [],
   "source": [
    "import math\n",
    "\n",
    "def example_func(window):\n",
    "    b = 0\n",
    "    for a in window:\n",
    "        b = max(b, math.sqrt(a))\n",
    "    if b == 8:\n",
    "        return 100    \n",
    "    return b"
   ]
  },
  {
   "cell_type": "code",
   "execution_count": 36,
   "id": "ed040019-4e33-47f1-b062-ba72804791e7",
   "metadata": {},
   "outputs": [
    {
     "data": {
      "text/plain": [
       "0     <NA>\n",
       "1     <NA>\n",
       "2      6.0\n",
       "3      7.0\n",
       "4    100.0\n",
       "5      9.0\n",
       "dtype: float64"
      ]
     },
     "execution_count": 36,
     "metadata": {},
     "output_type": "execute_result"
    }
   ],
   "source": [
    "rolling.apply(example_func)"
   ]
  },
  {
   "cell_type": "code",
   "execution_count": 38,
   "id": "2f2338b0-2e52-4d58-bc65-66cb19c22d5e",
   "metadata": {},
   "outputs": [],
   "source": [
    "grouped = df.groupby(['b'])"
   ]
  },
  {
   "cell_type": "code",
   "execution_count": 39,
   "id": "25add673-617b-4853-b955-92e2229e2d9f",
   "metadata": {},
   "outputs": [
    {
     "data": {
      "text/plain": [
       "<cudf.core.groupby.groupby.DataFrameGroupBy at 0x7fca3157f970>"
      ]
     },
     "execution_count": 39,
     "metadata": {},
     "output_type": "execute_result"
    }
   ],
   "source": [
    "grouped"
   ]
  },
  {
   "cell_type": "code",
   "execution_count": 40,
   "id": "69214d2f-348f-4806-b998-4c031799515b",
   "metadata": {},
   "outputs": [],
   "source": [
    "def rolling_avg(e, rolling_avg_e):\n",
    "    win_size = 3\n",
    "    for i in range(cuda.threadIdx.x, len(e), cuda.blockDim.x):\n",
    "        if i < win_size - 1:\n",
    "            # If there is not enough data to fill the window,\n",
    "            # take the average to be NaN\n",
    "            rolling_avg_e[i] = np.nan\n",
    "        else:\n",
    "            total = 0\n",
    "            for j in range(i - win_size + 1, i + 1):\n",
    "                total += e[j]\n",
    "            rolling_avg_e[i] = total / win_size"
   ]
  },
  {
   "cell_type": "code",
   "execution_count": 41,
   "id": "0d45cec9-afc2-4c78-b21b-1019b92bb82e",
   "metadata": {},
   "outputs": [
    {
     "data": {
      "text/html": [
       "<div>\n",
       "<style scoped>\n",
       "    .dataframe tbody tr th:only-of-type {\n",
       "        vertical-align: middle;\n",
       "    }\n",
       "\n",
       "    .dataframe tbody tr th {\n",
       "        vertical-align: top;\n",
       "    }\n",
       "\n",
       "    .dataframe thead th {\n",
       "        text-align: right;\n",
       "    }\n",
       "</style>\n",
       "<table border=\"1\" class=\"dataframe\">\n",
       "  <thead>\n",
       "    <tr style=\"text-align: right;\">\n",
       "      <th></th>\n",
       "      <th>a</th>\n",
       "      <th>b</th>\n",
       "      <th>c</th>\n",
       "      <th>e</th>\n",
       "      <th>out</th>\n",
       "      <th>rolling_avg_e</th>\n",
       "    </tr>\n",
       "  </thead>\n",
       "  <tbody>\n",
       "    <tr>\n",
       "      <th>1</th>\n",
       "      <td>0.480099</td>\n",
       "      <td>False</td>\n",
       "      <td>Bob</td>\n",
       "      <td>4.800994</td>\n",
       "      <td>5.281093</td>\n",
       "      <td>NaN</td>\n",
       "    </tr>\n",
       "    <tr>\n",
       "      <th>4</th>\n",
       "      <td>-0.970850</td>\n",
       "      <td>False</td>\n",
       "      <td>Sarah</td>\n",
       "      <td>-9.708501</td>\n",
       "      <td>-0.970850</td>\n",
       "      <td>NaN</td>\n",
       "    </tr>\n",
       "    <tr>\n",
       "      <th>6</th>\n",
       "      <td>0.801430</td>\n",
       "      <td>False</td>\n",
       "      <td>Sarah</td>\n",
       "      <td>8.014297</td>\n",
       "      <td>8.815727</td>\n",
       "      <td>1.035597</td>\n",
       "    </tr>\n",
       "    <tr>\n",
       "      <th>7</th>\n",
       "      <td>-0.933157</td>\n",
       "      <td>False</td>\n",
       "      <td>Quinn</td>\n",
       "      <td>-9.331571</td>\n",
       "      <td>-0.933157</td>\n",
       "      <td>-3.675258</td>\n",
       "    </tr>\n",
       "    <tr>\n",
       "      <th>0</th>\n",
       "      <td>-0.691674</td>\n",
       "      <td>True</td>\n",
       "      <td>Dan</td>\n",
       "      <td>-6.916743</td>\n",
       "      <td>-0.691674</td>\n",
       "      <td>NaN</td>\n",
       "    </tr>\n",
       "    <tr>\n",
       "      <th>2</th>\n",
       "      <td>-0.473370</td>\n",
       "      <td>True</td>\n",
       "      <td>Xavier</td>\n",
       "      <td>-4.733700</td>\n",
       "      <td>-0.473370</td>\n",
       "      <td>NaN</td>\n",
       "    </tr>\n",
       "    <tr>\n",
       "      <th>3</th>\n",
       "      <td>0.067479</td>\n",
       "      <td>True</td>\n",
       "      <td>Alice</td>\n",
       "      <td>0.674788</td>\n",
       "      <td>0.742267</td>\n",
       "      <td>-3.658552</td>\n",
       "    </tr>\n",
       "    <tr>\n",
       "      <th>5</th>\n",
       "      <td>0.837494</td>\n",
       "      <td>True</td>\n",
       "      <td>Wendy</td>\n",
       "      <td>8.374940</td>\n",
       "      <td>9.212434</td>\n",
       "      <td>1.438676</td>\n",
       "    </tr>\n",
       "    <tr>\n",
       "      <th>8</th>\n",
       "      <td>0.913899</td>\n",
       "      <td>True</td>\n",
       "      <td>Ursula</td>\n",
       "      <td>9.138987</td>\n",
       "      <td>10.052885</td>\n",
       "      <td>6.062905</td>\n",
       "    </tr>\n",
       "    <tr>\n",
       "      <th>9</th>\n",
       "      <td>-0.725581</td>\n",
       "      <td>True</td>\n",
       "      <td>George</td>\n",
       "      <td>-7.255814</td>\n",
       "      <td>-0.725581</td>\n",
       "      <td>3.419371</td>\n",
       "    </tr>\n",
       "  </tbody>\n",
       "</table>\n",
       "</div>"
      ],
      "text/plain": [
       "          a      b       c         e        out  rolling_avg_e\n",
       "1  0.480099  False     Bob  4.800994   5.281093            NaN\n",
       "4 -0.970850  False   Sarah -9.708501  -0.970850            NaN\n",
       "6  0.801430  False   Sarah  8.014297   8.815727       1.035597\n",
       "7 -0.933157  False   Quinn -9.331571  -0.933157      -3.675258\n",
       "0 -0.691674   True     Dan -6.916743  -0.691674            NaN\n",
       "2 -0.473370   True  Xavier -4.733700  -0.473370            NaN\n",
       "3  0.067479   True   Alice  0.674788   0.742267      -3.658552\n",
       "5  0.837494   True   Wendy  8.374940   9.212434       1.438676\n",
       "8  0.913899   True  Ursula  9.138987  10.052885       6.062905\n",
       "9 -0.725581   True  George -7.255814  -0.725581       3.419371"
      ]
     },
     "execution_count": 41,
     "metadata": {},
     "output_type": "execute_result"
    }
   ],
   "source": [
    "results = grouped.apply_grouped(rolling_avg,\n",
    "                               incols=['e'],\n",
    "                               outcols=dict(rolling_avg_e=np.float64))\n",
    "results"
   ]
  },
  {
   "cell_type": "markdown",
   "id": "f076d662-7f9b-494b-a06e-be22fd36d83b",
   "metadata": {},
   "source": [
    "If your UDFs will read or write any column containing nulls, you should read this section carefully.\n",
    "\n",
    "Writing UDFs that can handle null values is complicated by the fact that a separate bitmask is used to identify when a value is valid and when it's null. By default, DataFrame methods for applying UDFs like apply_rows will handle nulls pessimistically (all rows with a null value will be removed from the output if they are used in the kernel). "
   ]
  },
  {
   "cell_type": "code",
   "execution_count": null,
   "id": "e0262ae1-1603-4570-9008-900c10f9b04b",
   "metadata": {},
   "outputs": [],
   "source": []
  },
  {
   "cell_type": "code",
   "execution_count": null,
   "id": "b96b5ac7-dba4-43c2-bbfa-1ce233ecf8e6",
   "metadata": {},
   "outputs": [],
   "source": []
  },
  {
   "cell_type": "code",
   "execution_count": null,
   "id": "9dfc198c-b55d-4651-882b-b7648156aaee",
   "metadata": {},
   "outputs": [],
   "source": []
  }
 ],
 "metadata": {
  "kernelspec": {
   "display_name": "Python 3 (ipykernel)",
   "language": "python",
   "name": "python3"
  },
  "language_info": {
   "codemirror_mode": {
    "name": "ipython",
    "version": 3
   },
   "file_extension": ".py",
   "mimetype": "text/x-python",
   "name": "python",
   "nbconvert_exporter": "python",
   "pygments_lexer": "ipython3",
   "version": "3.10.12"
  }
 },
 "nbformat": 4,
 "nbformat_minor": 5
}
